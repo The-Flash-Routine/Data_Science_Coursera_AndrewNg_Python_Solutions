{
 "cells": [
  {
   "cell_type": "code",
   "execution_count": 1,
   "metadata": {
    "scrolled": true
   },
   "outputs": [],
   "source": [
    "#for pandas\n",
    "import pandas as pd"
   ]
  },
  {
   "cell_type": "code",
   "execution_count": 2,
   "metadata": {
    "scrolled": true
   },
   "outputs": [],
   "source": [
    "#for numpy\n",
    "import numpy as np"
   ]
  },
  {
   "cell_type": "code",
   "execution_count": 3,
   "metadata": {
    "scrolled": true
   },
   "outputs": [],
   "source": [
    "#for matplotlib\n",
    "import matplotlib.pyplot as plt\n",
    "%matplotlib inline"
   ]
  },
  {
   "cell_type": "code",
   "execution_count": 4,
   "metadata": {},
   "outputs": [],
   "source": [
    "#cost/squared error computng function\n",
    "def cost_compute(theta,x,y,m):\n",
    "    temp=((x.dot(theta))-y)\n",
    "    hey=np.sum((temp*temp))/(2*m)\n",
    "    return hey"
   ]
  },
  {
   "cell_type": "code",
   "execution_count": 5,
   "metadata": {
    "scrolled": true
   },
   "outputs": [],
   "source": [
    "#location of file containing data\n",
    "datafileloc=\"C:/Users/RitKat/Desktop/Projects_Flash/Done using Python_Andrew_Ng_Coursera/Week 2/machine-learning-ex1/ex1/Data_1/ex1data1.txt\""
   ]
  },
  {
   "cell_type": "code",
   "execution_count": 6,
   "metadata": {
    "scrolled": true
   },
   "outputs": [],
   "source": [
    "#reading csv file\n",
    "data=pd.read_csv(datafileloc,names=[\"Population\",\"Profit\"],header=None)"
   ]
  },
  {
   "cell_type": "code",
   "execution_count": 7,
   "metadata": {},
   "outputs": [],
   "source": [
    "#adding bias column or column with each value 1, as required by the Linear regression algorithm\n",
    "data.insert(0,\"Extra\",np.ones(97))"
   ]
  },
  {
   "cell_type": "code",
   "execution_count": 8,
   "metadata": {
    "scrolled": true
   },
   "outputs": [
    {
     "name": "stdout",
     "output_type": "stream",
     "text": [
      "    Extra  Population    Profit\n",
      "0     1.0      6.1101  17.59200\n",
      "1     1.0      5.5277   9.13020\n",
      "2     1.0      8.5186  13.66200\n",
      "3     1.0      7.0032  11.85400\n",
      "4     1.0      5.8598   6.82330\n",
      "5     1.0      8.3829  11.88600\n",
      "6     1.0      7.4764   4.34830\n",
      "7     1.0      8.5781  12.00000\n",
      "8     1.0      6.4862   6.59870\n",
      "9     1.0      5.0546   3.81660\n",
      "10    1.0      5.7107   3.25220\n",
      "11    1.0     14.1640  15.50500\n",
      "12    1.0      5.7340   3.15510\n",
      "13    1.0      8.4084   7.22580\n",
      "14    1.0      5.6407   0.71618\n",
      "15    1.0      5.3794   3.51290\n",
      "16    1.0      6.3654   5.30480\n",
      "17    1.0      5.1301   0.56077\n",
      "18    1.0      6.4296   3.65180\n",
      "19    1.0      7.0708   5.38930\n",
      "20    1.0      6.1891   3.13860\n",
      "21    1.0     20.2700  21.76700\n",
      "22    1.0      5.4901   4.26300\n",
      "23    1.0      6.3261   5.18750\n",
      "24    1.0      5.5649   3.08250\n",
      "25    1.0     18.9450  22.63800\n",
      "26    1.0     12.8280  13.50100\n",
      "27    1.0     10.9570   7.04670\n",
      "28    1.0     13.1760  14.69200\n",
      "29    1.0     22.2030  24.14700\n",
      "..    ...         ...       ...\n",
      "67    1.0     10.2360   7.77540\n",
      "68    1.0      5.4994   1.01730\n",
      "69    1.0     20.3410  20.99200\n",
      "70    1.0     10.1360   6.67990\n",
      "71    1.0      7.3345   4.02590\n",
      "72    1.0      6.0062   1.27840\n",
      "73    1.0      7.2259   3.34110\n",
      "74    1.0      5.0269  -2.68070\n",
      "75    1.0      6.5479   0.29678\n",
      "76    1.0      7.5386   3.88450\n",
      "77    1.0      5.0365   5.70140\n",
      "78    1.0     10.2740   6.75260\n",
      "79    1.0      5.1077   2.05760\n",
      "80    1.0      5.7292   0.47953\n",
      "81    1.0      5.1884   0.20421\n",
      "82    1.0      6.3557   0.67861\n",
      "83    1.0      9.7687   7.54350\n",
      "84    1.0      6.5159   5.34360\n",
      "85    1.0      8.5172   4.24150\n",
      "86    1.0      9.1802   6.79810\n",
      "87    1.0      6.0020   0.92695\n",
      "88    1.0      5.5204   0.15200\n",
      "89    1.0      5.0594   2.82140\n",
      "90    1.0      5.7077   1.84510\n",
      "91    1.0      7.6366   4.29590\n",
      "92    1.0      5.8707   7.20290\n",
      "93    1.0      5.3054   1.98690\n",
      "94    1.0      8.2934   0.14454\n",
      "95    1.0     13.3940   9.05510\n",
      "96    1.0      5.4369   0.61705\n",
      "\n",
      "[97 rows x 3 columns]\n"
     ]
    }
   ],
   "source": [
    "#data file in form of table with extra column inserted in above step\n",
    "print(data)"
   ]
  },
  {
   "cell_type": "code",
   "execution_count": 9,
   "metadata": {
    "scrolled": true
   },
   "outputs": [
    {
     "name": "stdout",
     "output_type": "stream",
     "text": [
      "    Extra  Population\n",
      "0     1.0      6.1101\n",
      "1     1.0      5.5277\n",
      "2     1.0      8.5186\n",
      "3     1.0      7.0032\n",
      "4     1.0      5.8598\n",
      "5     1.0      8.3829\n",
      "6     1.0      7.4764\n",
      "7     1.0      8.5781\n",
      "8     1.0      6.4862\n",
      "9     1.0      5.0546\n",
      "10    1.0      5.7107\n",
      "11    1.0     14.1640\n",
      "12    1.0      5.7340\n",
      "13    1.0      8.4084\n",
      "14    1.0      5.6407\n",
      "15    1.0      5.3794\n",
      "16    1.0      6.3654\n",
      "17    1.0      5.1301\n",
      "18    1.0      6.4296\n",
      "19    1.0      7.0708\n",
      "20    1.0      6.1891\n",
      "21    1.0     20.2700\n",
      "22    1.0      5.4901\n",
      "23    1.0      6.3261\n",
      "24    1.0      5.5649\n",
      "25    1.0     18.9450\n",
      "26    1.0     12.8280\n",
      "27    1.0     10.9570\n",
      "28    1.0     13.1760\n",
      "29    1.0     22.2030\n",
      "..    ...         ...\n",
      "67    1.0     10.2360\n",
      "68    1.0      5.4994\n",
      "69    1.0     20.3410\n",
      "70    1.0     10.1360\n",
      "71    1.0      7.3345\n",
      "72    1.0      6.0062\n",
      "73    1.0      7.2259\n",
      "74    1.0      5.0269\n",
      "75    1.0      6.5479\n",
      "76    1.0      7.5386\n",
      "77    1.0      5.0365\n",
      "78    1.0     10.2740\n",
      "79    1.0      5.1077\n",
      "80    1.0      5.7292\n",
      "81    1.0      5.1884\n",
      "82    1.0      6.3557\n",
      "83    1.0      9.7687\n",
      "84    1.0      6.5159\n",
      "85    1.0      8.5172\n",
      "86    1.0      9.1802\n",
      "87    1.0      6.0020\n",
      "88    1.0      5.5204\n",
      "89    1.0      5.0594\n",
      "90    1.0      5.7077\n",
      "91    1.0      7.6366\n",
      "92    1.0      5.8707\n",
      "93    1.0      5.3054\n",
      "94    1.0      8.2934\n",
      "95    1.0     13.3940\n",
      "96    1.0      5.4369\n",
      "\n",
      "[97 rows x 2 columns]\n"
     ]
    }
   ],
   "source": [
    "#extracting training set input\n",
    "x=data.iloc[:,0:2]\n",
    "print(x)\n"
   ]
  },
  {
   "cell_type": "code",
   "execution_count": 10,
   "metadata": {},
   "outputs": [
    {
     "name": "stdout",
     "output_type": "stream",
     "text": [
      "0     17.59200\n",
      "1      9.13020\n",
      "2     13.66200\n",
      "3     11.85400\n",
      "4      6.82330\n",
      "5     11.88600\n",
      "6      4.34830\n",
      "7     12.00000\n",
      "8      6.59870\n",
      "9      3.81660\n",
      "10     3.25220\n",
      "11    15.50500\n",
      "12     3.15510\n",
      "13     7.22580\n",
      "14     0.71618\n",
      "15     3.51290\n",
      "16     5.30480\n",
      "17     0.56077\n",
      "18     3.65180\n",
      "19     5.38930\n",
      "20     3.13860\n",
      "21    21.76700\n",
      "22     4.26300\n",
      "23     5.18750\n",
      "24     3.08250\n",
      "25    22.63800\n",
      "26    13.50100\n",
      "27     7.04670\n",
      "28    14.69200\n",
      "29    24.14700\n",
      "        ...   \n",
      "67     7.77540\n",
      "68     1.01730\n",
      "69    20.99200\n",
      "70     6.67990\n",
      "71     4.02590\n",
      "72     1.27840\n",
      "73     3.34110\n",
      "74    -2.68070\n",
      "75     0.29678\n",
      "76     3.88450\n",
      "77     5.70140\n",
      "78     6.75260\n",
      "79     2.05760\n",
      "80     0.47953\n",
      "81     0.20421\n",
      "82     0.67861\n",
      "83     7.54350\n",
      "84     5.34360\n",
      "85     4.24150\n",
      "86     6.79810\n",
      "87     0.92695\n",
      "88     0.15200\n",
      "89     2.82140\n",
      "90     1.84510\n",
      "91     4.29590\n",
      "92     7.20290\n",
      "93     1.98690\n",
      "94     0.14454\n",
      "95     9.05510\n",
      "96     0.61705\n",
      "Name: Profit, Length: 97, dtype: float64\n"
     ]
    }
   ],
   "source": [
    "#extraction training set output\n",
    "y=data.iloc[:,2]\n",
    "print(y)"
   ]
  },
  {
   "cell_type": "code",
   "execution_count": 11,
   "metadata": {
    "scrolled": true
   },
   "outputs": [
    {
     "data": {
      "text/plain": [
       "Text(0,0.5,'Profit in 10000s')"
      ]
     },
     "execution_count": 11,
     "metadata": {},
     "output_type": "execute_result"
    },
    {
     "data": {
      "image/png": "[encoded data removed]",
      "text/plain": [
       "<matplotlib.figure.Figure at 0x22e58e1eeb8>"
      ]
     },
     "metadata": {},
     "output_type": "display_data"
    }
   ],
   "source": [
    "#visualizing data\n",
    "plt.scatter(x.iloc[:,1],y)\n",
    "plt.xlabel(\"Population in 10000s\")\n",
    "plt.ylabel(\"Profit in 10000s\")"
   ]
  },
  {
   "cell_type": "code",
   "execution_count": 12,
   "metadata": {
    "scrolled": true
   },
   "outputs": [
    {
     "name": "stdout",
     "output_type": "stream",
     "text": [
      "<class 'pandas.core.series.Series'>\n",
      "<class 'pandas.core.frame.DataFrame'>\n"
     ]
    }
   ],
   "source": [
    "print(type(y))\n",
    "print(type(x))\n"
   ]
  },
  {
   "cell_type": "code",
   "execution_count": 13,
   "metadata": {},
   "outputs": [],
   "source": [
    "#converting DataFrame to numpy array\n",
    "X=x.values\n",
    "Y=y.values\n"
   ]
  },
  {
   "cell_type": "code",
   "execution_count": 14,
   "metadata": {},
   "outputs": [
    {
     "name": "stdout",
     "output_type": "stream",
     "text": [
      "<class 'numpy.ndarray'>\n",
      "<class 'numpy.ndarray'>\n"
     ]
    }
   ],
   "source": [
    "print(type(Y))\n",
    "print(type(X))"
   ]
  },
  {
   "cell_type": "code",
   "execution_count": 15,
   "metadata": {},
   "outputs": [
    {
     "name": "stdout",
     "output_type": "stream",
     "text": [
      "[0. 0.]\n"
     ]
    }
   ],
   "source": [
    "#initializing learning parameters to zero\n",
    "theta=np.zeros(2)\n",
    "print(theta)"
   ]
  },
  {
   "cell_type": "code",
   "execution_count": 16,
   "metadata": {},
   "outputs": [
    {
     "name": "stdout",
     "output_type": "stream",
     "text": [
      "<class 'numpy.ndarray'>\n"
     ]
    }
   ],
   "source": [
    "print(type(theta))"
   ]
  },
  {
   "cell_type": "code",
   "execution_count": 17,
   "metadata": {},
   "outputs": [
    {
     "name": "stdout",
     "output_type": "stream",
     "text": [
      "97\n"
     ]
    }
   ],
   "source": [
    "#assigning value of total number of inputs or training examples to a variable\n",
    "m=len(Y)\n",
    "print(m)"
   ]
  },
  {
   "cell_type": "code",
   "execution_count": 18,
   "metadata": {},
   "outputs": [],
   "source": [
    "#computing cost at theta=[0.0 , 0.0]\n",
    "cost=cost_compute(theta,X,Y,m)"
   ]
  },
  {
   "cell_type": "code",
   "execution_count": 19,
   "metadata": {},
   "outputs": [
    {
     "name": "stdout",
     "output_type": "stream",
     "text": [
      "32.072733877455676\n"
     ]
    }
   ],
   "source": [
    "print(cost)"
   ]
  },
  {
   "cell_type": "code",
   "execution_count": 20,
   "metadata": {},
   "outputs": [],
   "source": [
    "#giving gradient descent number of iterations to perform ,say 1500\n",
    "#setting value of alpha i.e. learning rate to 0.01\n",
    "iterations=1500\n",
    "alpha=0.01\n",
    "ite=[i for i in range(0,(iterations+1))]\n",
    "#print(ite)"
   ]
  },
  {
   "cell_type": "code",
   "execution_count": 21,
   "metadata": {},
   "outputs": [],
   "source": [
    "#squared error at initial theta\n",
    "J_val=[cost]"
   ]
  },
  {
   "cell_type": "code",
   "execution_count": 22,
   "metadata": {},
   "outputs": [],
   "source": [
    "Theta_val=[[0,0]]"
   ]
  },
  {
   "cell_type": "code",
   "execution_count": 23,
   "metadata": {},
   "outputs": [],
   "source": [
    "#computing gradient descent for specified number of iterations\n",
    "for i in range(0,iterations):\n",
    "    theta=theta-(alpha/m)*((np.transpose(X)).dot(((X.dot(theta))-Y)))\n",
    "    J_val.append(cost_compute(theta,X,Y,m))\n",
    "    Theta_val.append(theta)"
   ]
  },
  {
   "cell_type": "code",
   "execution_count": 24,
   "metadata": {},
   "outputs": [
    {
     "name": "stdout",
     "output_type": "stream",
     "text": [
      "[-3.63029144  1.16636235]\n"
     ]
    }
   ],
   "source": [
    "#final theta or learning parameter obtained after performing gradient descent with 1500 iterations\n",
    "print(theta)"
   ]
  },
  {
   "cell_type": "code",
   "execution_count": 25,
   "metadata": {},
   "outputs": [
    {
     "name": "stdout",
     "output_type": "stream",
     "text": [
      "1501\n"
     ]
    }
   ],
   "source": [
    "print(len(np.array(J_val)))"
   ]
  },
  {
   "cell_type": "code",
   "execution_count": 26,
   "metadata": {},
   "outputs": [
    {
     "data": {
      "text/plain": [
       "Text(0,0.5,'Error')"
      ]
     },
     "execution_count": 26,
     "metadata": {},
     "output_type": "execute_result"
    },
    {
     "data": {
      "image/png": "[encoded data removed]",
      "text/plain": [
       "<matplotlib.figure.Figure at 0x22e58e1e198>"
      ]
     },
     "metadata": {},
     "output_type": "display_data"
    }
   ],
   "source": [
    "#plotting sqaured error with number of iterations with view_1\n",
    "plt.plot(ite,np.array(J_val))\n",
    "plt.xlabel(\"Iterations\")\n",
    "plt.ylabel(\"Error\")"
   ]
  },
  {
   "cell_type": "code",
   "execution_count": 27,
   "metadata": {},
   "outputs": [
    {
     "data": {
      "text/plain": [
       "Text(0,0.5,'Error')"
      ]
     },
     "execution_count": 27,
     "metadata": {},
     "output_type": "execute_result"
    },
    {
     "data": {
      "image/png": "[encoded data removed]",
      "text/plain": [
       "<matplotlib.figure.Figure at 0x22e58fb1320>"
      ]
     },
     "metadata": {},
     "output_type": "display_data"
    }
   ],
   "source": [
    "#plotting sqaured error with number of iterations with view_2\n",
    "plt.plot(ite[0:100],np.array(J_val)[0:100])\n",
    "plt.xlabel(\"Iterations\")\n",
    "plt.ylabel(\"Error\")"
   ]
  },
  {
   "cell_type": "code",
   "execution_count": 28,
   "metadata": {},
   "outputs": [
    {
     "data": {
      "text/plain": [
       "Text(0,0.5,'Error')"
      ]
     },
     "execution_count": 28,
     "metadata": {},
     "output_type": "execute_result"
    },
    {
     "data": {
      "image/png": "[encoded data removed]",
      "text/plain": [
       "<matplotlib.figure.Figure at 0x22e58fb1390>"
      ]
     },
     "metadata": {},
     "output_type": "display_data"
    }
   ],
   "source": [
    "#plotting sqaured error with number of iterations with view_3\n",
    "plt.plot(ite[0:10],np.array(J_val)[0:10])\n",
    "plt.xlabel(\"Iterations\")\n",
    "plt.ylabel(\"Error\")"
   ]
  },
  {
   "cell_type": "code",
   "execution_count": 29,
   "metadata": {
    "scrolled": true
   },
   "outputs": [
    {
     "data": {
      "text/plain": [
       "Text(0,0.5,'Error')"
      ]
     },
     "execution_count": 29,
     "metadata": {},
     "output_type": "execute_result"
    },
    {
     "data": {
      "image/png": "[encoded data removed]",
      "text/plain": [
       "<matplotlib.figure.Figure at 0x22e5928df60>"
      ]
     },
     "metadata": {},
     "output_type": "display_data"
    }
   ],
   "source": [
    "#plotting sqaured error with number of iterations with view_4\n",
    "plt.plot(ite[:5],np.array(J_val)[:5])\n",
    "plt.xlabel(\"Iterations\")\n",
    "plt.ylabel(\"Error\")"
   ]
  },
  {
   "cell_type": "code",
   "execution_count": 30,
   "metadata": {},
   "outputs": [],
   "source": [
    "axe=np.arange(5,22.5,0.1)\n",
    "aye=theta[0]+(theta[1]*axe)"
   ]
  },
  {
   "cell_type": "code",
   "execution_count": 31,
   "metadata": {},
   "outputs": [
    {
     "data": {
      "text/plain": [
       "[<matplotlib.lines.Line2D at 0x22e592e96d8>]"
      ]
     },
     "execution_count": 31,
     "metadata": {},
     "output_type": "execute_result"
    },
    {
     "data": {
      "image/png": "[encoded data removed]",
      "text/plain": [
       "<matplotlib.figure.Figure at 0x22e592e9630>"
      ]
     },
     "metadata": {},
     "output_type": "display_data"
    }
   ],
   "source": [
    "#visualizing data\n",
    "plt.scatter(X[:,1],y)\n",
    "plt.xlabel(\"Population in 10000s\")\n",
    "plt.ylabel(\"Profit in 10000s\")\n",
    "plt.plot(axe,aye,c=\"black\")"
   ]
  },
  {
   "cell_type": "code",
   "execution_count": null,
   "metadata": {},
   "outputs": [],
   "source": []
  }
 ],
 "metadata": {
  "kernelspec": {
   "display_name": "Python 3",
   "language": "python",
   "name": "python3"
  },
  "language_info": {
   "codemirror_mode": {
    "name": "ipython",
    "version": 3
   },
   "file_extension": ".py",
   "mimetype": "text/x-python",
   "name": "python",
   "nbconvert_exporter": "python",
   "pygments_lexer": "ipython3",
   "version": "3.6.4"
  }
 },
 "nbformat": 4,
 "nbformat_minor": 2
}
