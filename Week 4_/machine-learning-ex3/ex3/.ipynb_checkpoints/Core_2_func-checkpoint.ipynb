{
 "cells": [
  {
   "cell_type": "code",
   "execution_count": 1,
   "metadata": {},
   "outputs": [],
   "source": [
    "#for pandas\n",
    "import pandas as pd"
   ]
  },
  {
   "cell_type": "code",
   "execution_count": 2,
   "metadata": {},
   "outputs": [],
   "source": [
    "#for numpy\n",
    "import numpy as np"
   ]
  },
  {
   "cell_type": "code",
   "execution_count": 3,
   "metadata": {},
   "outputs": [],
   "source": [
    "#for matplotlib\n",
    "import matplotlib.pyplot as plt"
   ]
  },
  {
   "cell_type": "code",
   "execution_count": 4,
   "metadata": {},
   "outputs": [],
   "source": [
    "#for scipy\n",
    "import scipy.io as sci"
   ]
  },
  {
   "cell_type": "code",
   "execution_count": 5,
   "metadata": {},
   "outputs": [],
   "source": [
    "#function to calculate hypothesis function i.e. 1/1+exp(z)\n",
    "def gz(barry):\n",
    "    hey=np.exp((-1)*barry)+1\n",
    "    heytt=1/hey\n",
    "    return heytt"
   ]
  },
  {
   "cell_type": "code",
   "execution_count": 6,
   "metadata": {},
   "outputs": [],
   "source": [
    "#location of file containing data\n",
    "datafileloc=\"C:/Users/RitKat/Desktop/Projects_Flash/Done using Python_Andrew_Ng_Coursera/Week 4/machine-learning-ex3/ex3/ex3data1.mat\""
   ]
  },
  {
   "cell_type": "code",
   "execution_count": 7,
   "metadata": {},
   "outputs": [],
   "source": [
    "#load data from .mat extension file\n",
    "#this feature is given by scipy lib\n",
    "data=sci.loadmat(datafileloc)\n"
   ]
  },
  {
   "cell_type": "code",
   "execution_count": 8,
   "metadata": {},
   "outputs": [
    {
     "name": "stdout",
     "output_type": "stream",
     "text": [
      "{'__header__': b'MATLAB 5.0 MAT-file, Platform: GLNXA64, Created on: Sun Oct 16 13:09:09 2011', '__version__': '1.0', '__globals__': [], 'X': array([[0., 0., 0., ..., 0., 0., 0.],\n",
      "       [0., 0., 0., ..., 0., 0., 0.],\n",
      "       [0., 0., 0., ..., 0., 0., 0.],\n",
      "       ...,\n",
      "       [0., 0., 0., ..., 0., 0., 0.],\n",
      "       [0., 0., 0., ..., 0., 0., 0.],\n",
      "       [0., 0., 0., ..., 0., 0., 0.]]), 'y': array([[10],\n",
      "       [10],\n",
      "       [10],\n",
      "       ...,\n",
      "       [ 9],\n",
      "       [ 9],\n",
      "       [ 9]], dtype=uint8)}\n"
     ]
    }
   ],
   "source": [
    "#printing loaded data\n",
    "print(data)"
   ]
  },
  {
   "cell_type": "code",
   "execution_count": 9,
   "metadata": {},
   "outputs": [
    {
     "name": "stdout",
     "output_type": "stream",
     "text": [
      "<class 'dict'>\n"
     ]
    }
   ],
   "source": [
    "#observe data type of this loaded data file is dictionary type\n",
    "print(type(data))"
   ]
  },
  {
   "cell_type": "code",
   "execution_count": 10,
   "metadata": {},
   "outputs": [
    {
     "name": "stdout",
     "output_type": "stream",
     "text": [
      "__header__\n",
      "__version__\n",
      "__globals__\n",
      "X\n",
      "y\n"
     ]
    }
   ],
   "source": [
    "#finding key values of this dictionary type data file\n",
    "for i in data:\n",
    "    print(i)"
   ]
  },
  {
   "cell_type": "code",
   "execution_count": 11,
   "metadata": {},
   "outputs": [],
   "source": [
    "#extracting values under key X and putting it to training examples input and converting to numpy array type\n",
    "x=np.array(data[\"X\"])"
   ]
  },
  {
   "cell_type": "code",
   "execution_count": 12,
   "metadata": {},
   "outputs": [],
   "source": [
    "#extracting values under key y and putting it to training examples output and converting to numpy array type\n",
    "y=np.array(data[\"y\"])"
   ]
  },
  {
   "cell_type": "code",
   "execution_count": 13,
   "metadata": {},
   "outputs": [
    {
     "name": "stdout",
     "output_type": "stream",
     "text": [
      "<class 'numpy.ndarray'>\n",
      "<class 'numpy.ndarray'>\n"
     ]
    }
   ],
   "source": [
    "#see\n",
    "print(type(x))\n",
    "print(type(y))"
   ]
  },
  {
   "cell_type": "code",
   "execution_count": 14,
   "metadata": {},
   "outputs": [
    {
     "name": "stdout",
     "output_type": "stream",
     "text": [
      "[[0. 0. 0. ... 0. 0. 0.]\n",
      " [0. 0. 0. ... 0. 0. 0.]\n",
      " [0. 0. 0. ... 0. 0. 0.]\n",
      " ...\n",
      " [0. 0. 0. ... 0. 0. 0.]\n",
      " [0. 0. 0. ... 0. 0. 0.]\n",
      " [0. 0. 0. ... 0. 0. 0.]]\n"
     ]
    }
   ],
   "source": [
    "#printing training examples input\n",
    "print(x)"
   ]
  },
  {
   "cell_type": "code",
   "execution_count": 15,
   "metadata": {},
   "outputs": [
    {
     "name": "stdout",
     "output_type": "stream",
     "text": [
      "[[10]\n",
      " [10]\n",
      " [10]\n",
      " ...\n",
      " [ 9]\n",
      " [ 9]\n",
      " [ 9]]\n"
     ]
    }
   ],
   "source": [
    "#printing training examples output\n",
    "print(y)"
   ]
  },
  {
   "cell_type": "code",
   "execution_count": 16,
   "metadata": {},
   "outputs": [
    {
     "name": "stdout",
     "output_type": "stream",
     "text": [
      "(5000, 400)\n",
      "(5000, 1)\n"
     ]
    }
   ],
   "source": [
    "#dimensions of x and y\n",
    "print(x.shape)\n",
    "print(y.shape)"
   ]
  },
  {
   "cell_type": "code",
   "execution_count": 17,
   "metadata": {},
   "outputs": [],
   "source": [
    "#coverting to dataframe object\n",
    "x=pd.DataFrame(x)"
   ]
  },
  {
   "cell_type": "code",
   "execution_count": 18,
   "metadata": {},
   "outputs": [
    {
     "name": "stdout",
     "output_type": "stream",
     "text": [
      "<class 'pandas.core.frame.DataFrame'>\n"
     ]
    }
   ],
   "source": [
    "print(type(x))"
   ]
  },
  {
   "cell_type": "code",
   "execution_count": 19,
   "metadata": {},
   "outputs": [],
   "source": [
    "#inserting extra column of only value 1 also callled biased input column\n",
    "x.insert(0,\"extra\",np.ones(5000))"
   ]
  },
  {
   "cell_type": "code",
   "execution_count": 20,
   "metadata": {},
   "outputs": [],
   "source": [
    "#converting to numpy array type\n",
    "X=x.as_matrix()"
   ]
  },
  {
   "cell_type": "code",
   "execution_count": 21,
   "metadata": {},
   "outputs": [
    {
     "name": "stdout",
     "output_type": "stream",
     "text": [
      "<class 'numpy.ndarray'>\n",
      "<class 'numpy.ndarray'>\n"
     ]
    }
   ],
   "source": [
    "print(type(X))\n",
    "print(type(y))"
   ]
  },
  {
   "cell_type": "code",
   "execution_count": 22,
   "metadata": {},
   "outputs": [
    {
     "name": "stdout",
     "output_type": "stream",
     "text": [
      "[5000, 401]\n",
      "(5000, 1)\n"
     ]
    }
   ],
   "source": [
    "#dimensions of input training examples viz. 'm' stands for number of training examples and 'n' stands for number of\n",
    "# of features(including extra added biaed feature which has value 1 throughout)\n",
    "[m,n]=X.shape\n",
    "print([m,n])\n",
    "print(y.shape)"
   ]
  },
  {
   "cell_type": "code",
   "execution_count": 23,
   "metadata": {},
   "outputs": [],
   "source": [
    "#location of file containing data\n",
    "thetafileloc=\"C:/Users/RitKat/Desktop/Projects_Flash/Done using Python_Andrew_Ng_Coursera/Week 4/machine-learning-ex3/ex3/ex3weights.mat\""
   ]
  },
  {
   "cell_type": "code",
   "execution_count": 24,
   "metadata": {},
   "outputs": [],
   "source": [
    "theta=sci.loadmat(thetafileloc)"
   ]
  },
  {
   "cell_type": "code",
   "execution_count": 25,
   "metadata": {},
   "outputs": [
    {
     "name": "stdout",
     "output_type": "stream",
     "text": [
      "__header__\n",
      "__version__\n",
      "__globals__\n",
      "Theta1\n",
      "Theta2\n"
     ]
    }
   ],
   "source": [
    "for i in theta:\n",
    "    print(i)"
   ]
  },
  {
   "cell_type": "code",
   "execution_count": 26,
   "metadata": {},
   "outputs": [],
   "source": [
    "theta1=np.array(theta[\"Theta1\"])\n",
    "theta2=np.array(theta[\"Theta2\"])"
   ]
  },
  {
   "cell_type": "code",
   "execution_count": 27,
   "metadata": {},
   "outputs": [
    {
     "name": "stdout",
     "output_type": "stream",
     "text": [
      "[[-2.25623899e-02 -1.05624163e-08  2.19414684e-09 ... -1.30529929e-05\n",
      "  -5.04175101e-06  2.80464449e-09]\n",
      " [-9.83811294e-02  7.66168682e-09 -9.75873689e-09 ... -5.60134007e-05\n",
      "   2.00940969e-07  3.54422854e-09]\n",
      " [ 1.16156052e-01 -8.77654466e-09  8.16037764e-09 ... -1.20951657e-04\n",
      "  -2.33669661e-06 -7.50668099e-09]\n",
      " ...\n",
      " [-1.83220638e-01 -8.89272060e-09 -9.81968100e-09 ...  2.35311186e-05\n",
      "  -3.25484493e-06  9.02499060e-09]\n",
      " [-7.02096331e-01  3.05178374e-10  2.56061008e-09 ... -8.61759744e-04\n",
      "   9.43449909e-05  3.83761998e-09]\n",
      " [-3.50933229e-01  8.85876862e-09 -6.57515140e-10 ... -1.80365926e-06\n",
      "  -8.14464807e-06  8.79454531e-09]]\n"
     ]
    }
   ],
   "source": [
    "print(theta1)"
   ]
  },
  {
   "cell_type": "code",
   "execution_count": 28,
   "metadata": {},
   "outputs": [
    {
     "name": "stdout",
     "output_type": "stream",
     "text": [
      "[[-0.76100352 -1.21244498 -0.10187131 -2.36850085 -1.05778129 -2.20823629\n",
      "   0.56383834  1.21105294  2.21030997  0.44456156 -1.18244872  1.04289112\n",
      "  -1.60558756  1.30419943  1.37175046  1.74825095 -0.23365648 -1.52014483\n",
      "   1.15324176  0.10368082 -0.37207719 -0.61530019 -0.1256836  -2.27193038\n",
      "  -0.71836208 -1.29690315]\n",
      " [-0.61785176  0.61559207 -1.26550639  1.85745418 -0.91853319 -0.05502589\n",
      "  -0.38589806  1.29520853 -1.56843297 -0.97026419 -2.18334895 -2.85033578\n",
      "  -2.07733086  1.63163164  0.3490229   1.82789117 -2.44174379 -0.8563034\n",
      "  -0.2982564  -2.07947873 -1.2933238   0.89982032  0.28306578  2.31180525\n",
      "  -2.46444086  1.45656548]\n",
      " [-0.68934072 -1.94538151  2.01360618 -3.12316188 -0.2361763   1.38680947\n",
      "   0.90982429 -1.54774416 -0.79830896 -0.65599834  0.7353833  -2.58593294\n",
      "   0.47210839  0.55349499  2.51255453 -2.4167454  -1.63898627  1.2027302\n",
      "  -1.20245851 -1.83445959 -1.88013027 -0.34056098  0.23692483 -1.06137919\n",
      "   1.02759232 -0.47690832]\n",
      " [-0.67832479  0.46299226  0.58492321 -0.1650184   1.93264192 -0.22965765\n",
      "  -1.84731492  0.49011768  1.07146054 -3.31905643  1.54113507  0.37371947\n",
      "  -0.86484681 -2.58273522  0.97062447 -0.51021867 -0.68427897 -1.64713607\n",
      "   0.21153145 -0.27422442  1.72599755  1.32418658 -2.63984479 -0.08055871\n",
      "  -2.03510803 -1.46123776]\n",
      " [-0.59664339 -2.04481799  2.05698407  1.95100909  0.17637699 -2.16141218\n",
      "  -0.40394736  1.80157532 -1.56278739 -0.25253004  0.23586497  0.71656699\n",
      "   1.07689092 -0.35457279 -1.67743058 -0.12939255 -0.67488849  1.14066535\n",
      "   1.32431237  3.21158484 -2.15888898 -2.60164082 -3.2226466  -1.89612906\n",
      "  -0.87488068  2.51038628]\n",
      " [-0.87794907  0.4344112  -0.93161049  0.18390778 -0.36078216  0.61958137\n",
      "   0.38624948 -2.65150343  2.29710773 -2.08818098 -1.86382323  1.06057836\n",
      "   0.77562146  2.1346861  -1.14973702 -0.52081426  0.99743429 -1.48309353\n",
      "  -2.3139424   0.29517333 -0.38704879 -2.20607697  0.30702191 -1.17646114\n",
      "  -1.63462966 -0.82467661]\n",
      " [-0.52746527  1.21564288 -1.50095981 -2.03195359 -1.52366734 -2.43732079\n",
      "  -2.37570311 -1.39987277 -0.88735315 -0.63278873  1.50450176 -1.580763\n",
      "   0.58599217 -0.77540416  0.94257331  2.10919653  0.54479132  0.43773612\n",
      "  -1.28024228 -0.04360994  1.4774997  -1.13276949 -0.72846904  0.04734716\n",
      "   1.6574566   1.68540944]\n",
      " [-0.7490154  -0.72249056 -3.15228173  0.36577778  0.19811362 -0.73059946\n",
      "   1.65263918 -2.300357   -1.87468162  0.98095387 -1.58825159  1.35434142\n",
      "   2.17895331 -1.99239762 -2.00371362 -0.388613   -2.33992976 -2.91719062\n",
      "   0.99398645 -2.70476768 -1.27139772  1.86091461 -1.20519404 -0.38014194\n",
      "   0.7087181  -2.11014003]\n",
      " [-0.6665468   0.53601845  1.30307573 -1.03372714 -4.03084753  0.58173469\n",
      "  -2.65717902  0.80379994 -1.09241928  2.49910058  0.362008    0.66195337\n",
      "  -0.92160534 -0.83123666 -2.00200952 -2.94897501  0.64564202 -1.10114694\n",
      "   0.74510309  0.58506717 -1.99545251  0.62591105  1.80596103 -0.22309315\n",
      "  -1.40442136 -2.1319153 ]\n",
      " [-0.46089119 -1.43944954 -1.21809509  0.71093011  0.45216919 -0.35953381\n",
      "   0.62284954 -0.67005297 -0.7069138   0.06311351 -1.23199074 -1.74645233\n",
      "  -2.71960897 -2.21437178 -1.69307505 -0.90927394  0.87852311  1.18664814\n",
      "  -1.87041262  0.39796295  1.72113872 -1.36934055  0.8580668  -0.24779579\n",
      "   1.28009118 -1.32752042]]\n"
     ]
    }
   ],
   "source": [
    "print(theta2)"
   ]
  },
  {
   "cell_type": "code",
   "execution_count": 29,
   "metadata": {},
   "outputs": [
    {
     "name": "stdout",
     "output_type": "stream",
     "text": [
      "(25, 401)\n"
     ]
    }
   ],
   "source": [
    "print(theta1.shape)"
   ]
  },
  {
   "cell_type": "code",
   "execution_count": 30,
   "metadata": {},
   "outputs": [
    {
     "name": "stdout",
     "output_type": "stream",
     "text": [
      "(10, 26)\n"
     ]
    }
   ],
   "source": [
    "print(theta2.shape)"
   ]
  },
  {
   "cell_type": "code",
   "execution_count": 31,
   "metadata": {},
   "outputs": [],
   "source": [
    "layer2=gz(X.dot(np.transpose(theta1)))"
   ]
  },
  {
   "cell_type": "code",
   "execution_count": 32,
   "metadata": {},
   "outputs": [],
   "source": [
    "layer2=pd.DataFrame(layer2)"
   ]
  },
  {
   "cell_type": "code",
   "execution_count": 33,
   "metadata": {},
   "outputs": [
    {
     "name": "stdout",
     "output_type": "stream",
     "text": [
      "<class 'pandas.core.frame.DataFrame'>\n"
     ]
    }
   ],
   "source": [
    "print(type(layer2))"
   ]
  },
  {
   "cell_type": "code",
   "execution_count": 34,
   "metadata": {},
   "outputs": [
    {
     "name": "stdout",
     "output_type": "stream",
     "text": [
      "(5000, 25)\n"
     ]
    }
   ],
   "source": [
    "print(layer2.shape)"
   ]
  },
  {
   "cell_type": "code",
   "execution_count": 35,
   "metadata": {},
   "outputs": [],
   "source": [
    "layer2.insert(0,\"extra\",np.ones(5000))"
   ]
  },
  {
   "cell_type": "code",
   "execution_count": 36,
   "metadata": {},
   "outputs": [
    {
     "name": "stdout",
     "output_type": "stream",
     "text": [
      "(5000, 26)\n"
     ]
    }
   ],
   "source": [
    "print(layer2.shape)"
   ]
  },
  {
   "cell_type": "code",
   "execution_count": 37,
   "metadata": {},
   "outputs": [
    {
     "name": "stdout",
     "output_type": "stream",
     "text": [
      "<class 'numpy.ndarray'>\n"
     ]
    }
   ],
   "source": [
    "layer2=layer2.as_matrix()\n",
    "print(type(layer2))"
   ]
  },
  {
   "cell_type": "code",
   "execution_count": 38,
   "metadata": {},
   "outputs": [],
   "source": [
    "final=gz(layer2.dot(np.transpose(theta2)))"
   ]
  },
  {
   "cell_type": "code",
   "execution_count": 39,
   "metadata": {
    "scrolled": true
   },
   "outputs": [
    {
     "name": "stdout",
     "output_type": "stream",
     "text": [
      "<class 'numpy.ndarray'>\n",
      "(5000, 10)\n"
     ]
    }
   ],
   "source": [
    "print(type(final))\n",
    "print(final.shape)"
   ]
  },
  {
   "cell_type": "code",
   "execution_count": 40,
   "metadata": {},
   "outputs": [],
   "source": [
    "#calculating accuracy"
   ]
  },
  {
   "cell_type": "code",
   "execution_count": 41,
   "metadata": {},
   "outputs": [],
   "source": [
    "#setting number of rightly identified input to be zero\n",
    "right=0"
   ]
  },
  {
   "cell_type": "code",
   "execution_count": 42,
   "metadata": {},
   "outputs": [],
   "source": [
    "#testing for each example\n",
    "for i in range(0,5000):\n",
    "    if (np.argmax(final[i,:])+1)==y[i]:\n",
    "        right=right+1"
   ]
  },
  {
   "cell_type": "code",
   "execution_count": 43,
   "metadata": {},
   "outputs": [
    {
     "name": "stdout",
     "output_type": "stream",
     "text": [
      "Accuracy percentage is 97.520000 percent\n"
     ]
    }
   ],
   "source": [
    "acc=(right/5000)*100\n",
    "print(\"Accuracy percentage is %f percent\"%(acc))"
   ]
  },
  {
   "cell_type": "code",
   "execution_count": null,
   "metadata": {},
   "outputs": [],
   "source": []
  }
 ],
 "metadata": {
  "kernelspec": {
   "display_name": "Python 3",
   "language": "python",
   "name": "python3"
  },
  "language_info": {
   "codemirror_mode": {
    "name": "ipython",
    "version": 3
   },
   "file_extension": ".py",
   "mimetype": "text/x-python",
   "name": "python",
   "nbconvert_exporter": "python",
   "pygments_lexer": "ipython3",
   "version": "3.6.4"
  }
 },
 "nbformat": 4,
 "nbformat_minor": 2
}
