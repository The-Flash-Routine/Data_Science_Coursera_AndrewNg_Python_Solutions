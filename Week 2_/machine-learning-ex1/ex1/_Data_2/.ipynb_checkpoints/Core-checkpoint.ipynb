{
 "cells": [
  {
   "cell_type": "code",
   "execution_count": 1,
   "metadata": {},
   "outputs": [],
   "source": [
    "#importing pandas\n",
    "import pandas as pd"
   ]
  },
  {
   "cell_type": "code",
   "execution_count": 2,
   "metadata": {},
   "outputs": [],
   "source": [
    "#importing numpy\n",
    "import numpy as np"
   ]
  },
  {
   "cell_type": "code",
   "execution_count": 3,
   "metadata": {},
   "outputs": [],
   "source": [
    "#importing matplotlib\n",
    "import matplotlib.pyplot as plt"
   ]
  },
  {
   "cell_type": "code",
   "execution_count": 4,
   "metadata": {},
   "outputs": [],
   "source": [
    "#cost/squared error computng function\n",
    "def compute_cost(theta,x,y,m):\n",
    "    hey=(1/(2*m))*(np.sum(((x.dot(theta))-y)**2))\n",
    "    return hey"
   ]
  },
  {
   "cell_type": "code",
   "execution_count": 5,
   "metadata": {},
   "outputs": [],
   "source": [
    "#location of file containing data\n",
    "datafileloc=\"C:/Users/RitKat/Desktop/Projects_Flash/Done using Python_Andrew_Ng_Coursera/Week 2/machine-learning-ex1/ex1/Data_2/ex1data2.txt\"\n"
   ]
  },
  {
   "cell_type": "code",
   "execution_count": 6,
   "metadata": {},
   "outputs": [],
   "source": [
    "#reading csv file\n",
    "data=pd.read_csv(datafileloc,header=None,names=[\"House Size\",\"No.of Bedrooms\",\"House Price\"])"
   ]
  },
  {
   "cell_type": "code",
   "execution_count": 7,
   "metadata": {},
   "outputs": [
    {
     "name": "stdout",
     "output_type": "stream",
     "text": [
      "    House Size  No.of Bedrooms  House Price\n",
      "0         2104               3       399900\n",
      "1         1600               3       329900\n",
      "2         2400               3       369000\n",
      "3         1416               2       232000\n",
      "4         3000               4       539900\n",
      "5         1985               4       299900\n",
      "6         1534               3       314900\n",
      "7         1427               3       198999\n",
      "8         1380               3       212000\n",
      "9         1494               3       242500\n",
      "10        1940               4       239999\n",
      "11        2000               3       347000\n",
      "12        1890               3       329999\n",
      "13        4478               5       699900\n",
      "14        1268               3       259900\n",
      "15        2300               4       449900\n",
      "16        1320               2       299900\n",
      "17        1236               3       199900\n",
      "18        2609               4       499998\n",
      "19        3031               4       599000\n",
      "20        1767               3       252900\n",
      "21        1888               2       255000\n",
      "22        1604               3       242900\n",
      "23        1962               4       259900\n",
      "24        3890               3       573900\n",
      "25        1100               3       249900\n",
      "26        1458               3       464500\n",
      "27        2526               3       469000\n",
      "28        2200               3       475000\n",
      "29        2637               3       299900\n",
      "30        1839               2       349900\n",
      "31        1000               1       169900\n",
      "32        2040               4       314900\n",
      "33        3137               3       579900\n",
      "34        1811               4       285900\n",
      "35        1437               3       249900\n",
      "36        1239               3       229900\n",
      "37        2132               4       345000\n",
      "38        4215               4       549000\n",
      "39        2162               4       287000\n",
      "40        1664               2       368500\n",
      "41        2238               3       329900\n",
      "42        2567               4       314000\n",
      "43        1200               3       299000\n",
      "44         852               2       179900\n",
      "45        1852               4       299900\n",
      "46        1203               3       239500\n"
     ]
    }
   ],
   "source": [
    "print(data)"
   ]
  },
  {
   "cell_type": "code",
   "execution_count": 8,
   "metadata": {},
   "outputs": [
    {
     "name": "stdout",
     "output_type": "stream",
     "text": [
      "47\n"
     ]
    }
   ],
   "source": [
    "#finding number of training examples 'm' \n",
    "m=len(data)\n",
    "print(m)\n"
   ]
  },
  {
   "cell_type": "code",
   "execution_count": 9,
   "metadata": {},
   "outputs": [],
   "source": [
    "#adding bias column or column with each value 1, as required by the Linear regression algorithm\n",
    "data.insert(0,\"Extra\",np.ones(m))"
   ]
  },
  {
   "cell_type": "code",
   "execution_count": 10,
   "metadata": {},
   "outputs": [
    {
     "name": "stdout",
     "output_type": "stream",
     "text": [
      "    Extra  House Size  No.of Bedrooms  House Price\n",
      "0     1.0        2104               3       399900\n",
      "1     1.0        1600               3       329900\n",
      "2     1.0        2400               3       369000\n",
      "3     1.0        1416               2       232000\n",
      "4     1.0        3000               4       539900\n",
      "5     1.0        1985               4       299900\n",
      "6     1.0        1534               3       314900\n",
      "7     1.0        1427               3       198999\n",
      "8     1.0        1380               3       212000\n",
      "9     1.0        1494               3       242500\n",
      "10    1.0        1940               4       239999\n",
      "11    1.0        2000               3       347000\n",
      "12    1.0        1890               3       329999\n",
      "13    1.0        4478               5       699900\n",
      "14    1.0        1268               3       259900\n",
      "15    1.0        2300               4       449900\n",
      "16    1.0        1320               2       299900\n",
      "17    1.0        1236               3       199900\n",
      "18    1.0        2609               4       499998\n",
      "19    1.0        3031               4       599000\n",
      "20    1.0        1767               3       252900\n",
      "21    1.0        1888               2       255000\n",
      "22    1.0        1604               3       242900\n",
      "23    1.0        1962               4       259900\n",
      "24    1.0        3890               3       573900\n",
      "25    1.0        1100               3       249900\n",
      "26    1.0        1458               3       464500\n",
      "27    1.0        2526               3       469000\n",
      "28    1.0        2200               3       475000\n",
      "29    1.0        2637               3       299900\n",
      "30    1.0        1839               2       349900\n",
      "31    1.0        1000               1       169900\n",
      "32    1.0        2040               4       314900\n",
      "33    1.0        3137               3       579900\n",
      "34    1.0        1811               4       285900\n",
      "35    1.0        1437               3       249900\n",
      "36    1.0        1239               3       229900\n",
      "37    1.0        2132               4       345000\n",
      "38    1.0        4215               4       549000\n",
      "39    1.0        2162               4       287000\n",
      "40    1.0        1664               2       368500\n",
      "41    1.0        2238               3       329900\n",
      "42    1.0        2567               4       314000\n",
      "43    1.0        1200               3       299000\n",
      "44    1.0         852               2       179900\n",
      "45    1.0        1852               4       299900\n",
      "46    1.0        1203               3       239500\n"
     ]
    }
   ],
   "source": [
    "#data file in form of table with extra column inserted in above step\n",
    "print(data)"
   ]
  },
  {
   "cell_type": "code",
   "execution_count": 11,
   "metadata": {},
   "outputs": [
    {
     "name": "stdout",
     "output_type": "stream",
     "text": [
      "    Extra  House Size  No.of Bedrooms\n",
      "0     1.0        2104               3\n",
      "1     1.0        1600               3\n",
      "2     1.0        2400               3\n",
      "3     1.0        1416               2\n",
      "4     1.0        3000               4\n",
      "5     1.0        1985               4\n",
      "6     1.0        1534               3\n",
      "7     1.0        1427               3\n",
      "8     1.0        1380               3\n",
      "9     1.0        1494               3\n",
      "10    1.0        1940               4\n",
      "11    1.0        2000               3\n",
      "12    1.0        1890               3\n",
      "13    1.0        4478               5\n",
      "14    1.0        1268               3\n",
      "15    1.0        2300               4\n",
      "16    1.0        1320               2\n",
      "17    1.0        1236               3\n",
      "18    1.0        2609               4\n",
      "19    1.0        3031               4\n",
      "20    1.0        1767               3\n",
      "21    1.0        1888               2\n",
      "22    1.0        1604               3\n",
      "23    1.0        1962               4\n",
      "24    1.0        3890               3\n",
      "25    1.0        1100               3\n",
      "26    1.0        1458               3\n",
      "27    1.0        2526               3\n",
      "28    1.0        2200               3\n",
      "29    1.0        2637               3\n",
      "30    1.0        1839               2\n",
      "31    1.0        1000               1\n",
      "32    1.0        2040               4\n",
      "33    1.0        3137               3\n",
      "34    1.0        1811               4\n",
      "35    1.0        1437               3\n",
      "36    1.0        1239               3\n",
      "37    1.0        2132               4\n",
      "38    1.0        4215               4\n",
      "39    1.0        2162               4\n",
      "40    1.0        1664               2\n",
      "41    1.0        2238               3\n",
      "42    1.0        2567               4\n",
      "43    1.0        1200               3\n",
      "44    1.0         852               2\n",
      "45    1.0        1852               4\n",
      "46    1.0        1203               3\n"
     ]
    }
   ],
   "source": [
    "#extracting training set input\n",
    "x=data.iloc[:,0:3]\n",
    "print(x)"
   ]
  },
  {
   "cell_type": "code",
   "execution_count": 12,
   "metadata": {},
   "outputs": [
    {
     "name": "stdout",
     "output_type": "stream",
     "text": [
      "0     399900\n",
      "1     329900\n",
      "2     369000\n",
      "3     232000\n",
      "4     539900\n",
      "5     299900\n",
      "6     314900\n",
      "7     198999\n",
      "8     212000\n",
      "9     242500\n",
      "10    239999\n",
      "11    347000\n",
      "12    329999\n",
      "13    699900\n",
      "14    259900\n",
      "15    449900\n",
      "16    299900\n",
      "17    199900\n",
      "18    499998\n",
      "19    599000\n",
      "20    252900\n",
      "21    255000\n",
      "22    242900\n",
      "23    259900\n",
      "24    573900\n",
      "25    249900\n",
      "26    464500\n",
      "27    469000\n",
      "28    475000\n",
      "29    299900\n",
      "30    349900\n",
      "31    169900\n",
      "32    314900\n",
      "33    579900\n",
      "34    285900\n",
      "35    249900\n",
      "36    229900\n",
      "37    345000\n",
      "38    549000\n",
      "39    287000\n",
      "40    368500\n",
      "41    329900\n",
      "42    314000\n",
      "43    299000\n",
      "44    179900\n",
      "45    299900\n",
      "46    239500\n",
      "Name: House Price, dtype: int64\n"
     ]
    }
   ],
   "source": [
    "#extraction training set output\n",
    "y=data.iloc[:,3]\n",
    "print(y)"
   ]
  },
  {
   "cell_type": "code",
   "execution_count": 13,
   "metadata": {},
   "outputs": [
    {
     "name": "stdout",
     "output_type": "stream",
     "text": [
      "47\n",
      "3\n"
     ]
    }
   ],
   "source": [
    "#finding number of training examples 'm' and number of features(including extra added of bias added one) 'n'\n",
    "[m,n]=x.shape\n",
    "print(m)\n",
    "print(n)"
   ]
  },
  {
   "cell_type": "code",
   "execution_count": 14,
   "metadata": {},
   "outputs": [
    {
     "name": "stdout",
     "output_type": "stream",
     "text": [
      "<class 'pandas.core.frame.DataFrame'>\n",
      "<class 'pandas.core.series.Series'>\n"
     ]
    }
   ],
   "source": [
    "print(type(x))\n",
    "print(type(y))\n"
   ]
  },
  {
   "cell_type": "code",
   "execution_count": 15,
   "metadata": {},
   "outputs": [],
   "source": [
    "#converting DataFrame to numpy array\n",
    "X=x.values\n",
    "Y=y.values"
   ]
  },
  {
   "cell_type": "code",
   "execution_count": 16,
   "metadata": {},
   "outputs": [
    {
     "name": "stdout",
     "output_type": "stream",
     "text": [
      "<class 'numpy.ndarray'>\n",
      "<class 'numpy.ndarray'>\n"
     ]
    }
   ],
   "source": [
    "print(type(X))\n",
    "print(type(Y))"
   ]
  },
  {
   "cell_type": "code",
   "execution_count": 17,
   "metadata": {},
   "outputs": [
    {
     "name": "stdout",
     "output_type": "stream",
     "text": [
      "[0. 0. 0.]\n"
     ]
    }
   ],
   "source": [
    "#initializing learning parameters to zero\n",
    "theta=np.zeros(n)\n",
    "print(theta)"
   ]
  },
  {
   "cell_type": "code",
   "execution_count": 18,
   "metadata": {},
   "outputs": [],
   "source": [
    "#performing feature scaling on x"
   ]
  },
  {
   "cell_type": "code",
   "execution_count": 19,
   "metadata": {},
   "outputs": [
    {
     "name": "stdout",
     "output_type": "stream",
     "text": [
      "2000.6808510638298\n",
      "786.2026187430467\n"
     ]
    }
   ],
   "source": [
    "#on house size\n",
    "avg=np.mean(X[:,1])\n",
    "print(avg)\n",
    "stdd=np.std(X[:,1])\n",
    "print(stdd)"
   ]
  },
  {
   "cell_type": "code",
   "execution_count": 20,
   "metadata": {},
   "outputs": [],
   "source": [
    "#normalizing 2nd column by subtracting mean and the dividing by standard deviation\n",
    "X[:,1]=(X[:,1]-avg)/(stdd)"
   ]
  },
  {
   "cell_type": "code",
   "execution_count": 21,
   "metadata": {},
   "outputs": [
    {
     "name": "stdout",
     "output_type": "stream",
     "text": [
      "[ 1.31415422e-01 -5.09640698e-01  5.07908699e-01 -7.43677059e-01\n",
      "  1.27107075e+00 -1.99450507e-02 -5.93588523e-01 -7.29685755e-01\n",
      " -7.89466782e-01 -6.44465993e-01 -7.71822042e-02 -8.65999486e-04\n",
      " -1.40779041e-01  3.15099326e+00 -9.31923697e-01  3.80715024e-01\n",
      " -8.65782986e-01 -9.72625673e-01  7.73743478e-01  1.31050078e+00\n",
      " -2.97227261e-01 -1.43322915e-01 -5.04552951e-01 -4.91995958e-02\n",
      "  2.40309445e+00 -1.14560907e+00 -6.90255715e-01  6.68172729e-01\n",
      "  2.53521350e-01  8.09357707e-01 -2.05647815e-01 -1.27280274e+00\n",
      "  5.00114703e-02  1.44532608e+00 -2.41262044e-01 -7.16966387e-01\n",
      " -9.68809863e-01  1.67029651e-01  2.81647389e+00  2.05187753e-01\n",
      " -4.28236746e-01  3.01854946e-01  7.20322135e-01 -1.01841540e+00\n",
      " -1.46104938e+00 -1.89112638e-01 -1.01459959e+00]\n"
     ]
    }
   ],
   "source": [
    "#input traing examples after normalization\n",
    "print(X[:,1])"
   ]
  },
  {
   "cell_type": "code",
   "execution_count": 22,
   "metadata": {},
   "outputs": [
    {
     "name": "stdout",
     "output_type": "stream",
     "text": [
      "3.1702127659574466\n",
      "0.7528428090618781\n"
     ]
    }
   ],
   "source": [
    "#on number of bedrooms\n",
    "avg=np.mean(X[:,2])\n",
    "print(avg)\n",
    "stdd=np.std(X[:,2])\n",
    "print(stdd)"
   ]
  },
  {
   "cell_type": "code",
   "execution_count": 23,
   "metadata": {},
   "outputs": [],
   "source": [
    "#normalizing 2nd column by subtracting mean and the dividing by standard deviation\n",
    "X[:,2]=(X[:,2]-avg)/(stdd)"
   ]
  },
  {
   "cell_type": "code",
   "execution_count": 24,
   "metadata": {},
   "outputs": [
    {
     "name": "stdout",
     "output_type": "stream",
     "text": [
      "[-0.22609337 -0.22609337 -0.22609337 -1.5543919   1.10220517  1.10220517\n",
      " -0.22609337 -0.22609337 -0.22609337 -0.22609337  1.10220517 -0.22609337\n",
      " -0.22609337  2.4305037  -0.22609337  1.10220517 -1.5543919  -0.22609337\n",
      "  1.10220517  1.10220517 -0.22609337 -1.5543919  -0.22609337  1.10220517\n",
      " -0.22609337 -0.22609337 -0.22609337 -0.22609337 -0.22609337 -0.22609337\n",
      " -1.5543919  -2.88269044  1.10220517 -0.22609337  1.10220517 -0.22609337\n",
      " -0.22609337  1.10220517  1.10220517  1.10220517 -1.5543919  -0.22609337\n",
      "  1.10220517 -0.22609337 -1.5543919   1.10220517 -0.22609337]\n"
     ]
    }
   ],
   "source": [
    "#input traing examples after normalization\n",
    "print(X[:,2])"
   ]
  },
  {
   "cell_type": "code",
   "execution_count": 25,
   "metadata": {},
   "outputs": [
    {
     "name": "stdout",
     "output_type": "stream",
     "text": [
      "[65591548106.45744]\n"
     ]
    }
   ],
   "source": [
    "#computing cost at theta=[0.0 , 0.0]\n",
    "J_val=[compute_cost(theta,X,Y,m)]\n",
    "print(J_val)"
   ]
  },
  {
   "cell_type": "code",
   "execution_count": 26,
   "metadata": {},
   "outputs": [],
   "source": [
    "#giving gradient descent number of iterations to perform ,say 1500\n",
    "#setting value of alpha i.e. learning rate to 0.01\n",
    "iterations=1500\n",
    "alpha=0.01\n",
    "ite=[i for i in range(0,iterations+1)]\n"
   ]
  },
  {
   "cell_type": "code",
   "execution_count": 27,
   "metadata": {},
   "outputs": [],
   "source": [
    "#computing gradient descent for specified number of iterations\n",
    "for i in range(1,iterations+1):\n",
    "    theta=theta-((alpha/m)*((np.transpose(X)).dot(X.dot(theta)-Y)))\n",
    "    J_val.append(compute_cost(theta,X,Y,m))"
   ]
  },
  {
   "cell_type": "code",
   "execution_count": 28,
   "metadata": {},
   "outputs": [
    {
     "name": "stdout",
     "output_type": "stream",
     "text": [
      "[340412.56301439 109370.05670466  -6500.61509507]\n"
     ]
    }
   ],
   "source": [
    "#final theta or learning parameter obtained after performing gradient descent with 1500 iterations\n",
    "print(theta)"
   ]
  },
  {
   "cell_type": "code",
   "execution_count": 29,
   "metadata": {},
   "outputs": [
    {
     "name": "stdout",
     "output_type": "stream",
     "text": [
      "1501\n",
      "1501\n"
     ]
    }
   ],
   "source": [
    "print(len(ite))\n",
    "print(len(J_val))"
   ]
  },
  {
   "cell_type": "code",
   "execution_count": 30,
   "metadata": {},
   "outputs": [
    {
     "data": {
      "text/plain": [
       "Text(0,0.5,'Error')"
      ]
     },
     "execution_count": 30,
     "metadata": {},
     "output_type": "execute_result"
    },
    {
     "data": {
      "image/png": "[encoded data removed]",
      "text/plain": [
       "<matplotlib.figure.Figure at 0x11a1099d400>"
      ]
     },
     "metadata": {},
     "output_type": "display_data"
    }
   ],
   "source": [
    "#plotting sqaured error with number of iterations with view_1\n",
    "plt.plot(ite,J_val)\n",
    "plt.xlabel(\"No. of iterations\")\n",
    "plt.ylabel(\"Error\")"
   ]
  },
  {
   "cell_type": "code",
   "execution_count": 31,
   "metadata": {},
   "outputs": [
    {
     "data": {
      "text/plain": [
       "Text(0,0.5,'Error')"
      ]
     },
     "execution_count": 31,
     "metadata": {},
     "output_type": "execute_result"
    },
    {
     "data": {
      "image/png": "[encoded data removed]",
      "text/plain": [
       "<matplotlib.figure.Figure at 0x11a1099d710>"
      ]
     },
     "metadata": {},
     "output_type": "display_data"
    }
   ],
   "source": [
    "#plotting sqaured error with number of iterations with view_2\n",
    "plt.plot(ite[:400],J_val[:400])\n",
    "plt.xlabel(\"No. of iterations\")\n",
    "plt.ylabel(\"Error\")"
   ]
  },
  {
   "cell_type": "code",
   "execution_count": 32,
   "metadata": {},
   "outputs": [
    {
     "data": {
      "text/plain": [
       "Text(0,0.5,'Error')"
      ]
     },
     "execution_count": 32,
     "metadata": {},
     "output_type": "execute_result"
    },
    {
     "data": {
      "image/png": "[encoded data removed]",
      "text/plain": [
       "<matplotlib.figure.Figure at 0x11a10d72668>"
      ]
     },
     "metadata": {},
     "output_type": "display_data"
    }
   ],
   "source": [
    "#plotting sqaured error with number of iterations with view_3\n",
    "plt.plot(ite[:250],J_val[:250])\n",
    "plt.xlabel(\"No. of iterations\")\n",
    "plt.ylabel(\"Error\")"
   ]
  },
  {
   "cell_type": "code",
   "execution_count": 33,
   "metadata": {},
   "outputs": [],
   "source": [
    "#now lets check effect of learning rate"
   ]
  },
  {
   "cell_type": "code",
   "execution_count": 34,
   "metadata": {},
   "outputs": [],
   "source": [
    "#making range of learning rate from 0.01 to 1 with increment of 0.3\n",
    "alphar=np.arange(0.01,1,0.03)"
   ]
  },
  {
   "cell_type": "code",
   "execution_count": 35,
   "metadata": {},
   "outputs": [],
   "source": [
    "#lets keep iterations constant to value of say 100"
   ]
  },
  {
   "cell_type": "code",
   "execution_count": 36,
   "metadata": {},
   "outputs": [],
   "source": [
    "iterations=100\n",
    "J_alpha_val=[]"
   ]
  },
  {
   "cell_type": "code",
   "execution_count": 37,
   "metadata": {},
   "outputs": [],
   "source": [
    "#performing gradient descent with 100 iterations with above listed range of learning rates\n",
    "for x in alphar:\n",
    "  for i in range(1,iterations+1):\n",
    "      theta=theta-((x/m)*((np.transpose(X)).dot(X.dot(theta)-Y)))\n",
    "  J_alpha_val.append(compute_cost(theta,X,Y,m))"
   ]
  },
  {
   "cell_type": "code",
   "execution_count": 38,
   "metadata": {},
   "outputs": [
    {
     "data": {
      "text/plain": [
       "Text(0,0.5,'Eror after 100 iterations')"
      ]
     },
     "execution_count": 38,
     "metadata": {},
     "output_type": "execute_result"
    },
    {
     "data": {
      "image/png": "[encoded data removed]",
      "text/plain": [
       "<matplotlib.figure.Figure at 0x11a10d9dc18>"
      ]
     },
     "metadata": {},
     "output_type": "display_data"
    }
   ],
   "source": [
    "#plotting sqaured error with different values of learning rates with view_1\n",
    "plt.plot(alphar,J_alpha_val)\n",
    "plt.xlabel(\"Learning rate value\")\n",
    "plt.ylabel(\"Eror after %d iterations\"%(iterations))"
   ]
  },
  {
   "cell_type": "code",
   "execution_count": 39,
   "metadata": {},
   "outputs": [
    {
     "data": {
      "text/plain": [
       "Text(0,0.5,'Eror after 100 iterations')"
      ]
     },
     "execution_count": 39,
     "metadata": {},
     "output_type": "execute_result"
    },
    {
     "data": {
      "image/png": "[encoded data removed]",
      "text/plain": [
       "<matplotlib.figure.Figure at 0x11a109e7ba8>"
      ]
     },
     "metadata": {},
     "output_type": "display_data"
    }
   ],
   "source": [
    "#plotting sqaured error with different values of learning rates with view_2\n",
    "plt.plot(alphar[:10],J_alpha_val[:10])\n",
    "plt.xlabel(\"Learning rate value\")\n",
    "plt.ylabel(\"Eror after %d iterations\"%(iterations))"
   ]
  },
  {
   "cell_type": "code",
   "execution_count": 40,
   "metadata": {},
   "outputs": [
    {
     "data": {
      "text/plain": [
       "Text(0,0.5,'Eror after 100 iterations')"
      ]
     },
     "execution_count": 40,
     "metadata": {},
     "output_type": "execute_result"
    },
    {
     "data": {
      "image/png": "[encoded data removed]",
      "text/plain": [
       "<matplotlib.figure.Figure at 0x11a10e58080>"
      ]
     },
     "metadata": {},
     "output_type": "display_data"
    }
   ],
   "source": [
    "#plotting sqaured error with different values of learning rates with view_3\n",
    "plt.plot(alphar[:5],J_alpha_val[:5])\n",
    "plt.xlabel(\"Learning rate value\")\n",
    "plt.ylabel(\"Eror after %d iterations\"%(iterations))"
   ]
  },
  {
   "cell_type": "code",
   "execution_count": null,
   "metadata": {},
   "outputs": [],
   "source": []
  }
 ],
 "metadata": {
  "kernelspec": {
   "display_name": "Python 3",
   "language": "python",
   "name": "python3"
  },
  "language_info": {
   "codemirror_mode": {
    "name": "ipython",
    "version": 3
   },
   "file_extension": ".py",
   "mimetype": "text/x-python",
   "name": "python",
   "nbconvert_exporter": "python",
   "pygments_lexer": "ipython3",
   "version": "3.6.4"
  }
 },
 "nbformat": 4,
 "nbformat_minor": 2
}
