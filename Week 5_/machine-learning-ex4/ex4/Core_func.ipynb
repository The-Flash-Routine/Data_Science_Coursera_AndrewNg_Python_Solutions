{
 "cells": [
  {
   "cell_type": "code",
   "execution_count": 1,
   "metadata": {},
   "outputs": [],
   "source": [
    "#for pandas\n",
    "import pandas as pd"
   ]
  },
  {
   "cell_type": "code",
   "execution_count": 2,
   "metadata": {},
   "outputs": [],
   "source": [
    "# for numpy\n",
    "import numpy as np"
   ]
  },
  {
   "cell_type": "code",
   "execution_count": 3,
   "metadata": {},
   "outputs": [],
   "source": [
    "#for loading .mat extension file into program\n",
    "import scipy.io as sci"
   ]
  },
  {
   "cell_type": "code",
   "execution_count": 4,
   "metadata": {},
   "outputs": [],
   "source": [
    "#for visualization purpose\n",
    "import matplotlib.pyplot as plt"
   ]
  },
  {
   "cell_type": "code",
   "execution_count": 5,
   "metadata": {},
   "outputs": [],
   "source": [
    "#function to calculate hypothesis function i.e. 1/1+exp(z)\n",
    "def gz(z):\n",
    "    hey=1+np.exp((-1)*z)\n",
    "    heyt=1/hey\n",
    "    return heyt"
   ]
  },
  {
   "cell_type": "code",
   "execution_count": 6,
   "metadata": {},
   "outputs": [],
   "source": [
    "#function to compute cost\n",
    "def compute_cost(theta1,theta2,x,y,m,lambo=0):\n",
    "    cost=0\n",
    "    for i in range(0,m):\n",
    "        a2=gz(x[i,:].dot(np.transpose(theta1)))\n",
    "        a2=np.append([1],a2)\n",
    "        final=gz(a2.dot(np.transpose(theta2)))\n",
    "        spider=((-1)*(y[i,:])*np.log(final))-((1-(y[i,:]))*np.log(1-final))\n",
    "        cost=cost+np.sum(spider)\n",
    "    cost=(1/m)*cost+(1/(2*m))*lambo*(np.sum(theta1*theta1)+np.sum(theta2*theta2))\n",
    "    return cost"
   ]
  },
  {
   "cell_type": "code",
   "execution_count": 7,
   "metadata": {},
   "outputs": [],
   "source": [
    "#function to calcuate gradient\n",
    "def gz_gradient(z):\n",
    "    venom=gz(z)\n",
    "    return ((venom)*(1-venom))"
   ]
  },
  {
   "cell_type": "code",
   "execution_count": 8,
   "metadata": {},
   "outputs": [],
   "source": [
    "#function to run forward propagation and return final (or 3rd) and secong layer activations of neural network\n",
    "def forw_prop(theta1,theta2,x):\n",
    "    a2=gz(x.dot(np.transpose(theta1)))\n",
    "    a2=np.append([1],a2)\n",
    "    final=gz(a2.dot(np.transpose(theta2)))\n",
    "    return final,a2"
   ]
  },
  {
   "cell_type": "code",
   "execution_count": 9,
   "metadata": {},
   "outputs": [],
   "source": [
    "#function to calculate graients of theta1 and theta 2 for backpropagation\n",
    "def get_t1_t2_grad(theta1,theta2,x,y,m,lambo=0):\n",
    "    bigdelta1=np.zeros(theta1.shape)\n",
    "    bigdelta2=np.zeros(theta2.shape)\n",
    "    for i in range(0,m):\n",
    "      final,layer2=forw_prop(theta1,theta2,x[i,:])#getting final and second layer activations by forw_prop function\n",
    "      smalldelta3=final-y[i,:]                     #error in 3rd layer\n",
    "      smalldelta2=(smalldelta3.dot(theta2[:,1:26]))*gz_gradient(x[i,:].dot(np.transpose(theta1))) #error in 2nd layer\n",
    "      bigdelta1=bigdelta1+np.outer(smalldelta2,x[i,:])\n",
    "      bigdelta2=bigdelta2+np.outer(smalldelta3,layer2)\n",
    "    theta1_gradient=(1/m)*bigdelta1+(lambo/m)*np.sum(theta1)\n",
    "    theta2_gradient=(1/m)*bigdelta2+(lambo/m)*np.sum(theta2)\n",
    "    return theta1_gradient,theta2_gradient"
   ]
  },
  {
   "cell_type": "code",
   "execution_count": 10,
   "metadata": {},
   "outputs": [],
   "source": [
    "#data file location variable\n",
    "datafileloc=\"C:/Users/RitKat/Desktop/Projects_Flash/Done using Python_Andrew_Ng_Coursera/Week 5/machine-learning-ex4/ex4/ex4data1.mat\""
   ]
  },
  {
   "cell_type": "code",
   "execution_count": 11,
   "metadata": {},
   "outputs": [],
   "source": [
    "#load data from .mat extension file\n",
    "#this feature is given by scipy lib\n",
    "data=sci.loadmat(datafileloc)"
   ]
  },
  {
   "cell_type": "code",
   "execution_count": 12,
   "metadata": {},
   "outputs": [
    {
     "name": "stdout",
     "output_type": "stream",
     "text": [
      "{'__header__': b'MATLAB 5.0 MAT-file, Platform: GLNXA64, Created on: Sun Oct 16 13:09:09 2011', '__version__': '1.0', '__globals__': [], 'X': array([[0., 0., 0., ..., 0., 0., 0.],\n",
      "       [0., 0., 0., ..., 0., 0., 0.],\n",
      "       [0., 0., 0., ..., 0., 0., 0.],\n",
      "       ...,\n",
      "       [0., 0., 0., ..., 0., 0., 0.],\n",
      "       [0., 0., 0., ..., 0., 0., 0.],\n",
      "       [0., 0., 0., ..., 0., 0., 0.]]), 'y': array([[10],\n",
      "       [10],\n",
      "       [10],\n",
      "       ...,\n",
      "       [ 9],\n",
      "       [ 9],\n",
      "       [ 9]], dtype=uint8)}\n"
     ]
    }
   ],
   "source": [
    "#displaying data\n",
    "print(data)"
   ]
  },
  {
   "cell_type": "code",
   "execution_count": 13,
   "metadata": {},
   "outputs": [
    {
     "name": "stdout",
     "output_type": "stream",
     "text": [
      "<class 'dict'>\n"
     ]
    }
   ],
   "source": [
    "#observe data type of this loaded data file is dictionary type\n",
    "print(type(data))"
   ]
  },
  {
   "cell_type": "code",
   "execution_count": 14,
   "metadata": {},
   "outputs": [
    {
     "name": "stdout",
     "output_type": "stream",
     "text": [
      "__header__\n",
      "__version__\n",
      "__globals__\n",
      "X\n",
      "y\n"
     ]
    }
   ],
   "source": [
    "#finding key values of this dictionary type data file\n",
    "for i in data:\n",
    "  print(i)"
   ]
  },
  {
   "cell_type": "code",
   "execution_count": 15,
   "metadata": {},
   "outputs": [],
   "source": [
    "#extracting values under key X and putting it to training examples input and converting to numpy array type\n",
    "x=np.array(data[\"X\"])"
   ]
  },
  {
   "cell_type": "code",
   "execution_count": 16,
   "metadata": {},
   "outputs": [],
   "source": [
    "#extracting values under key y and putting it to training examples output and converting to numpy array type\n",
    "y=np.array(data[\"y\"])"
   ]
  },
  {
   "cell_type": "code",
   "execution_count": 17,
   "metadata": {},
   "outputs": [
    {
     "name": "stdout",
     "output_type": "stream",
     "text": [
      "[[0. 0. 0. ... 0. 0. 0.]\n",
      " [0. 0. 0. ... 0. 0. 0.]\n",
      " [0. 0. 0. ... 0. 0. 0.]\n",
      " ...\n",
      " [0. 0. 0. ... 0. 0. 0.]\n",
      " [0. 0. 0. ... 0. 0. 0.]\n",
      " [0. 0. 0. ... 0. 0. 0.]]\n"
     ]
    }
   ],
   "source": [
    "#printing training examples input\n",
    "print(x)"
   ]
  },
  {
   "cell_type": "code",
   "execution_count": 18,
   "metadata": {},
   "outputs": [
    {
     "name": "stdout",
     "output_type": "stream",
     "text": [
      "[[10]\n",
      " [10]\n",
      " [10]\n",
      " ...\n",
      " [ 9]\n",
      " [ 9]\n",
      " [ 9]]\n"
     ]
    }
   ],
   "source": [
    "#printing training examples output\n",
    "print(y)"
   ]
  },
  {
   "cell_type": "code",
   "execution_count": 19,
   "metadata": {},
   "outputs": [],
   "source": [
    "#coverting to dataframe object\n",
    "x=pd.DataFrame(x)"
   ]
  },
  {
   "cell_type": "code",
   "execution_count": 20,
   "metadata": {},
   "outputs": [
    {
     "name": "stdout",
     "output_type": "stream",
     "text": [
      "<class 'pandas.core.frame.DataFrame'>\n"
     ]
    }
   ],
   "source": [
    "print(type(x))"
   ]
  },
  {
   "cell_type": "code",
   "execution_count": 21,
   "metadata": {},
   "outputs": [],
   "source": [
    "#inserting extra column of only value 1 also callled biased input column\n",
    "x.insert(0,\"extra\",np.ones(5000))"
   ]
  },
  {
   "cell_type": "code",
   "execution_count": 22,
   "metadata": {},
   "outputs": [],
   "source": [
    "#converting to numpy array type\n",
    "X=x.as_matrix()"
   ]
  },
  {
   "cell_type": "code",
   "execution_count": 23,
   "metadata": {},
   "outputs": [
    {
     "name": "stdout",
     "output_type": "stream",
     "text": [
      "[5000, 401]\n"
     ]
    }
   ],
   "source": [
    "#dimensions of input training examples viz. 'm' stands for number of training examples and 'n' stands for number of\n",
    "# of features(including extra added biaed feature which has value 1 throughout)\n",
    "[m,n]=X.shape\n",
    "print([m,n])"
   ]
  },
  {
   "cell_type": "code",
   "execution_count": 24,
   "metadata": {},
   "outputs": [
    {
     "name": "stdout",
     "output_type": "stream",
     "text": [
      "<class 'numpy.ndarray'>\n"
     ]
    }
   ],
   "source": [
    "print(type(X))"
   ]
  },
  {
   "cell_type": "code",
   "execution_count": 25,
   "metadata": {},
   "outputs": [],
   "source": [
    "#theta file location variable\n",
    "thetafileloc=\"C:/Users/RitKat/Desktop/Projects_Flash/Done using Python_Andrew_Ng_Coursera/Week 5/machine-learning-ex4/ex4/ex4weights.mat\""
   ]
  },
  {
   "cell_type": "code",
   "execution_count": 26,
   "metadata": {},
   "outputs": [],
   "source": [
    "#loading already trained theta set file\n",
    "theta=sci.loadmat(thetafileloc)"
   ]
  },
  {
   "cell_type": "code",
   "execution_count": 27,
   "metadata": {},
   "outputs": [
    {
     "name": "stdout",
     "output_type": "stream",
     "text": [
      "__header__\n",
      "__version__\n",
      "__globals__\n",
      "Theta1\n",
      "Theta2\n"
     ]
    }
   ],
   "source": [
    "#finding key values of this dictionary type theta file\n",
    "for i in theta:\n",
    "    print(i)"
   ]
  },
  {
   "cell_type": "code",
   "execution_count": 28,
   "metadata": {},
   "outputs": [],
   "source": [
    "#extracting theta 1 matrix from ex4weights.mat file as numpy array data type matrix\n",
    "theta1=np.array(theta[\"Theta1\"])"
   ]
  },
  {
   "cell_type": "code",
   "execution_count": 29,
   "metadata": {},
   "outputs": [],
   "source": [
    "#extracting theta 2 matrix from ex4weights.mat file as numpy array data type matrix\n",
    "theta2=np.array(theta[\"Theta2\"])"
   ]
  },
  {
   "cell_type": "code",
   "execution_count": 30,
   "metadata": {},
   "outputs": [
    {
     "name": "stdout",
     "output_type": "stream",
     "text": [
      "(25, 401)\n",
      "(10, 26)\n"
     ]
    }
   ],
   "source": [
    "#displaying dimensions of theta 1 and theta 2 learning parameters as extracted from .mat file\n",
    "print(theta1.shape)\n",
    "print(theta2.shape)"
   ]
  },
  {
   "cell_type": "code",
   "execution_count": 31,
   "metadata": {},
   "outputs": [],
   "source": [
    "#now we will convert y, the output training examples to a different format and saving it to \"Y\"\n",
    "#the places which contain \"1\" in y vector will be changed with[1,0,0,0,0,0,0,0,0,0] \n",
    "#the places which contain \"2\" in y vector will be changed with[0,1,0,0,0,0,0,0,0,0]\n",
    "#                .\n",
    "#                .\n",
    "#                .\n",
    "#                .\n",
    "#the places which contain \"10\" in y vector will be changed with[0,0,0,0,0,0,0,0,0,1]\n",
    "\n",
    "#remember here ->y=10 means y=0"
   ]
  },
  {
   "cell_type": "code",
   "execution_count": 32,
   "metadata": {},
   "outputs": [],
   "source": [
    "#creating identity matrix\n",
    "iden=np.eye(10)"
   ]
  },
  {
   "cell_type": "code",
   "execution_count": 33,
   "metadata": {},
   "outputs": [
    {
     "name": "stdout",
     "output_type": "stream",
     "text": [
      "[[1. 0. 0. 0. 0. 0. 0. 0. 0. 0.]\n",
      " [0. 1. 0. 0. 0. 0. 0. 0. 0. 0.]\n",
      " [0. 0. 1. 0. 0. 0. 0. 0. 0. 0.]\n",
      " [0. 0. 0. 1. 0. 0. 0. 0. 0. 0.]\n",
      " [0. 0. 0. 0. 1. 0. 0. 0. 0. 0.]\n",
      " [0. 0. 0. 0. 0. 1. 0. 0. 0. 0.]\n",
      " [0. 0. 0. 0. 0. 0. 1. 0. 0. 0.]\n",
      " [0. 0. 0. 0. 0. 0. 0. 1. 0. 0.]\n",
      " [0. 0. 0. 0. 0. 0. 0. 0. 1. 0.]\n",
      " [0. 0. 0. 0. 0. 0. 0. 0. 0. 1.]]\n"
     ]
    }
   ],
   "source": [
    "print(iden)"
   ]
  },
  {
   "cell_type": "code",
   "execution_count": 34,
   "metadata": {},
   "outputs": [],
   "source": [
    "#assigning name to each row of the above construted identity matrix\n",
    "hehe1=iden[0,:]\n",
    "hehe2=iden[1,:]\n",
    "hehe3=iden[2,:]\n",
    "hehe4=iden[3,:]\n",
    "hehe5=iden[4,:]\n",
    "hehe6=iden[5,:]\n",
    "hehe7=iden[6,:]\n",
    "hehe8=iden[7,:]\n",
    "hehe9=iden[8,:]\n",
    "hehe10=iden[9,:]"
   ]
  },
  {
   "cell_type": "code",
   "execution_count": 35,
   "metadata": {},
   "outputs": [],
   "source": [
    "#creting a matrix \"Y\" of dimension of 5000x10 to store modified y\n",
    "Y=np.zeros((5000,10))"
   ]
  },
  {
   "cell_type": "code",
   "execution_count": 36,
   "metadata": {},
   "outputs": [],
   "source": [
    "#converting y to Y\n",
    "for i in range(0,5000):\n",
    "    if y[i]==1:\n",
    "      Y[i,:]=Y[i,:]+hehe1\n",
    "    elif y[i]==2:\n",
    "      Y[i,:]=Y[i,:]+hehe2\n",
    "    elif y[i]==3:\n",
    "      Y[i,:]=Y[i,:]+hehe3\n",
    "    elif y[i]==4:\n",
    "      Y[i,:]=Y[i,:]+hehe4\n",
    "    elif y[i]==5:\n",
    "      Y[i,:]=Y[i,:]+hehe5\n",
    "    elif y[i]==6:\n",
    "      Y[i,:]=Y[i,:]+hehe6\n",
    "    elif y[i]==7:\n",
    "      Y[i,:]=Y[i,:]+hehe7\n",
    "    elif y[i]==8:\n",
    "      Y[i,:]=Y[i,:]+hehe8\n",
    "    elif y[i]==9:\n",
    "      Y[i,:]=Y[i,:]+hehe9\n",
    "    elif y[i]==10:\n",
    "      Y[i,:]=Y[i,:]+hehe10\n",
    "    "
   ]
  },
  {
   "cell_type": "code",
   "execution_count": 37,
   "metadata": {},
   "outputs": [
    {
     "name": "stdout",
     "output_type": "stream",
     "text": [
      "0.2876291651613188\n"
     ]
    }
   ],
   "source": [
    "#now we compute cost with lambda=0,with already trained theta 1 and theta 2 sets\n",
    "#lambda is regularization parameter\n",
    "costj=compute_cost(theta1,theta2,X,Y,m)\n",
    "print(costj)"
   ]
  },
  {
   "cell_type": "code",
   "execution_count": 38,
   "metadata": {},
   "outputs": [
    {
     "name": "stdout",
     "output_type": "stream",
     "text": [
      "0.38448779624289386\n"
     ]
    }
   ],
   "source": [
    "##now we compute cost with lambda=0,with already trained theta 1 and theta 2 sets\n",
    "#lambda is regularization parameter\n",
    "costj=compute_cost(theta1,theta2,X,Y,m,1)\n",
    "print(costj)"
   ]
  },
  {
   "cell_type": "code",
   "execution_count": 39,
   "metadata": {},
   "outputs": [],
   "source": [
    "#now exercise part 2 begins which is road to Backpropagation"
   ]
  },
  {
   "cell_type": "code",
   "execution_count": 40,
   "metadata": {},
   "outputs": [
    {
     "name": "stdout",
     "output_type": "stream",
     "text": [
      "0.25\n"
     ]
    }
   ],
   "source": [
    "#just testing function gz_grad() as does it give values as instructed,i.e. as z=0 it must give 0.25\n",
    "print(gz_gradient(0))"
   ]
  },
  {
   "cell_type": "code",
   "execution_count": 41,
   "metadata": {},
   "outputs": [
    {
     "name": "stdout",
     "output_type": "stream",
     "text": [
      "0.0\n"
     ]
    }
   ],
   "source": [
    "#just testing function gz_grad() as does it give values as instructed,i.e. at high z it must give 0\n",
    "print(gz_gradient(1000000))"
   ]
  },
  {
   "cell_type": "code",
   "execution_count": 42,
   "metadata": {},
   "outputs": [],
   "source": [
    "#now for learning backpropagation technique we assign random values to theta1(referred to as theta1_new) between -0.12 to 0.12\n",
    "#there is no such significance of 0.12,just randomly choosen value\n",
    "theta1_new=np.random.uniform(-0.12,0.12,size=(25,401))"
   ]
  },
  {
   "cell_type": "code",
   "execution_count": 43,
   "metadata": {},
   "outputs": [],
   "source": [
    "#now for learning backpropagation technique we assign random values to theta2(referred to as theta2_new) between -0.12 to 0.12\n",
    "#there is no such significance of 0.12,just randomly choosen value\n",
    "theta2_new=np.random.uniform(-0.12,0.12,size=(10,26))"
   ]
  },
  {
   "cell_type": "code",
   "execution_count": 44,
   "metadata": {},
   "outputs": [
    {
     "name": "stdout",
     "output_type": "stream",
     "text": [
      "[[-0.08067627  0.03986151 -0.02425883 ...  0.02147819  0.02981813\n",
      "  -0.11353862]\n",
      " [-0.09106417 -0.06516081 -0.11943774 ... -0.0460462   0.01265768\n",
      "   0.0488121 ]\n",
      " [ 0.03577534  0.05220311 -0.05863613 ... -0.04675064 -0.09383934\n",
      "   0.08052843]\n",
      " ...\n",
      " [ 0.02740776  0.1054514  -0.06362471 ... -0.04407149 -0.01468194\n",
      "  -0.11345777]\n",
      " [ 0.06165535  0.000528    0.02459953 ...  0.07436145 -0.11127317\n",
      "   0.04672243]\n",
      " [-0.03202127 -0.03993267 -0.06060116 ...  0.04054862  0.10682294\n",
      "  -0.02025509]]\n"
     ]
    }
   ],
   "source": [
    "#displaying randomly generated theta1_new matrix\n",
    "print(theta1_new)"
   ]
  },
  {
   "cell_type": "code",
   "execution_count": 45,
   "metadata": {},
   "outputs": [
    {
     "name": "stdout",
     "output_type": "stream",
     "text": [
      "[[-0.08078304 -0.0079224   0.09601362 -0.06494121  0.09050887  0.07325077\n",
      "  -0.07091635 -0.0364276   0.03762892  0.02117963  0.08840409 -0.10269658\n",
      "   0.01773735 -0.07242488  0.09946494  0.10586425  0.04051986  0.0892233\n",
      "   0.08173863 -0.02527419  0.03445215 -0.05780595 -0.07615809  0.07388811\n",
      "  -0.02240873 -0.07097317]\n",
      " [ 0.06455044 -0.01972787 -0.09488433 -0.09212165 -0.05930546  0.05429063\n",
      "  -0.00610177  0.08397634 -0.0658338   0.07520214 -0.05449338  0.03910308\n",
      "  -0.10455123 -0.08538417  0.05925486  0.08529885  0.03228384  0.11428154\n",
      "   0.03540355  0.0009266   0.05782996  0.02325887 -0.08049364 -0.00507481\n",
      "   0.1152636   0.00989092]\n",
      " [ 0.03785975 -0.00049574 -0.0551773   0.06137436 -0.04458505 -0.01530886\n",
      "   0.02600558 -0.11011436 -0.09888531 -0.03593701  0.03715215  0.05045109\n",
      "   0.08669161 -0.09852098 -0.07987242 -0.07950582  0.03523456  0.11267043\n",
      "  -0.09698241  0.11482462 -0.04500058 -0.09197055  0.01123404  0.05185091\n",
      "   0.01378821 -0.10509877]\n",
      " [ 0.09304368  0.06551581  0.08798791  0.11225005 -0.0301067  -0.04377644\n",
      "  -0.09358709  0.00549915  0.0933789  -0.00689364 -0.09217318 -0.11884362\n",
      "   0.10773334 -0.07837073  0.09070868 -0.02034328 -0.11834957  0.05829787\n",
      "  -0.05188146 -0.0860917   0.02369263 -0.10946843 -0.10661094  0.03876255\n",
      "   0.10846501 -0.06577874]\n",
      " [-0.03034311  0.01578478  0.00734618  0.07626595 -0.03388275  0.00666428\n",
      "  -0.0230815  -0.01466362 -0.05028198 -0.01574657 -0.10776863  0.08266127\n",
      "  -0.0230433  -0.06525897 -0.09900833  0.02806042  0.09549915  0.0247918\n",
      "  -0.08186306 -0.00050718 -0.02110279 -0.11160661 -0.0747329   0.06328076\n",
      "  -0.08810124  0.01199212]\n",
      " [-0.1064726   0.0490851  -0.05286739  0.02923955 -0.0924996  -0.1121617\n",
      "   0.07589749  0.07915386 -0.05513012 -0.05386301  0.07208309 -0.02626649\n",
      "  -0.040013    0.03819016  0.04096908 -0.10580726 -0.03050767  0.08872941\n",
      "   0.10513143  0.10175133 -0.04786385  0.0053944  -0.10523192 -0.09951614\n",
      "   0.0087868   0.08835539]\n",
      " [-0.08333721 -0.03805796  0.08538658 -0.04384089 -0.05183319  0.11914699\n",
      "   0.05993572 -0.00208257  0.00694898  0.03010073 -0.10049035 -0.01949584\n",
      "   0.09446506 -0.07290536  0.08881943  0.11144909 -0.01919032 -0.04737743\n",
      "   0.06533387  0.11466742 -0.08347885 -0.03741485 -0.06349239 -0.10598056\n",
      "   0.02619068  0.06877211]\n",
      " [-0.01600344  0.11826378  0.0792234  -0.0769215   0.01849257  0.09169999\n",
      "   0.11877144  0.10012419 -0.10908957 -0.09940601 -0.0873195  -0.03671805\n",
      "  -0.06563128  0.04171521  0.08422254  0.07432981  0.05122819  0.0269569\n",
      "  -0.04217534  0.09824025 -0.03382712  0.05278485 -0.10936468 -0.0373612\n",
      "   0.0149169   0.08888279]\n",
      " [-0.02346656 -0.05825969 -0.09634945 -0.06854172  0.10543756 -0.08608415\n",
      "   0.04329692  0.03147882 -0.07453326 -0.09605132  0.0888986  -0.09908535\n",
      "   0.10197581  0.10512977 -0.04391098  0.0023116   0.00471968  0.05243869\n",
      "   0.06456442  0.04743959  0.04206198 -0.00604389  0.08120296 -0.0045526\n",
      "   0.10977177  0.07836196]\n",
      " [ 0.04550008  0.02862053 -0.06676922  0.0875791   0.0135539  -0.03930951\n",
      "  -0.03930848 -0.08447931 -0.02825785  0.09895816 -0.10328379 -0.04264826\n",
      "   0.04911077  0.11837606 -0.03243482 -0.0095519   0.0412119   0.08783846\n",
      "  -0.10730789  0.09245072 -0.06692155 -0.07343673 -0.0632682   0.05659791\n",
      "  -0.04010273 -0.04693798]]\n"
     ]
    }
   ],
   "source": [
    "#displaying randomly generated theta2_new matrix\n",
    "print(theta2_new)"
   ]
  },
  {
   "cell_type": "code",
   "execution_count": 46,
   "metadata": {},
   "outputs": [],
   "source": [
    "#trial run of function which generates gradients of theta1_new and theta2_new \n",
    "theta1_new_grad,theta2_new_grad=get_t1_t2_grad(theta1_new,theta2_new,X,Y,m,0)"
   ]
  },
  {
   "cell_type": "code",
   "execution_count": 47,
   "metadata": {},
   "outputs": [
    {
     "name": "stdout",
     "output_type": "stream",
     "text": [
      "(25, 401)\n",
      "(10, 26)\n"
     ]
    }
   ],
   "source": [
    "#checking dimensions of generated matrix\n",
    "print(theta1_new_grad.shape)\n",
    "print(theta2_new_grad.shape)"
   ]
  },
  {
   "cell_type": "code",
   "execution_count": 48,
   "metadata": {},
   "outputs": [],
   "source": [
    "#now we can perform gradient descent algorithm"
   ]
  },
  {
   "cell_type": "code",
   "execution_count": 49,
   "metadata": {},
   "outputs": [],
   "source": [
    "#setting number of iterations to perform to 1000 at a learning rate of 0.01\n",
    "iterations=400\n",
    "alpha=0.01\n",
    "ite=[i for i in range(0,iterations+1)]"
   ]
  },
  {
   "cell_type": "code",
   "execution_count": 50,
   "metadata": {},
   "outputs": [],
   "source": [
    "#computing error value just before making 1st iteration of gradient descent with random values of theta1_new and theta2_new\n",
    "J_val=[compute_cost(theta1_new,theta2_new,X,Y,m)]"
   ]
  },
  {
   "cell_type": "code",
   "execution_count": 51,
   "metadata": {},
   "outputs": [],
   "source": [
    "#running gradient descent\n",
    "for i in range(0,iterations):\n",
    "    theta1_new_grad,theta2_new_grad=get_t1_t2_grad(theta1_new,theta2_new,X,Y,m,0)\n",
    "    theta1_new=theta1_new-(alpha/m)*theta1_new_grad\n",
    "    theta2_new=theta2_new-(alpha/m)*theta2_new_grad\n",
    "    J_val.append(compute_cost(theta1_new,theta2_new,X,Y,m))"
   ]
  },
  {
   "cell_type": "code",
   "execution_count": 58,
   "metadata": {},
   "outputs": [
    {
     "data": {
      "text/plain": [
       "Text(200,6.95,'Observe the error is decreasing')"
      ]
     },
     "execution_count": 58,
     "metadata": {},
     "output_type": "execute_result"
    },
    {
     "data": {
      "image/png": "[encoded data removed]",
      "text/plain": [
       "<matplotlib.figure.Figure at 0x1fce3e908d0>"
      ]
     },
     "metadata": {},
     "output_type": "display_data"
    }
   ],
   "source": [
    "#plotting value of error with each step(iteration of gradient descent)\n",
    "plt.plot(ite,np.array(J_val))\n",
    "plt.xlabel(\"No.of oterations\")\n",
    "plt.ylabel(\"Error\")\n",
    "plt.annotate('Observe the error is decreasing',xy=(100, 6.949),xytext=(200, 6.950),arrowprops=dict(facecolor='black',shrink=0.05))"
   ]
  },
  {
   "cell_type": "code",
   "execution_count": 59,
   "metadata": {},
   "outputs": [],
   "source": [
    "#we can make more iterations of gradient descent to even lower the error"
   ]
  },
  {
   "cell_type": "code",
   "execution_count": null,
   "metadata": {},
   "outputs": [],
   "source": []
  },
  {
   "cell_type": "code",
   "execution_count": null,
   "metadata": {},
   "outputs": [],
   "source": []
  },
  {
   "cell_type": "code",
   "execution_count": null,
   "metadata": {},
   "outputs": [],
   "source": []
  },
  {
   "cell_type": "code",
   "execution_count": null,
   "metadata": {},
   "outputs": [],
   "source": []
  }
 ],
 "metadata": {
  "kernelspec": {
   "display_name": "Python 3",
   "language": "python",
   "name": "python3"
  },
  "language_info": {
   "codemirror_mode": {
    "name": "ipython",
    "version": 3
   },
   "file_extension": ".py",
   "mimetype": "text/x-python",
   "name": "python",
   "nbconvert_exporter": "python",
   "pygments_lexer": "ipython3",
   "version": "3.6.5"
  }
 },
 "nbformat": 4,
 "nbformat_minor": 2
}
