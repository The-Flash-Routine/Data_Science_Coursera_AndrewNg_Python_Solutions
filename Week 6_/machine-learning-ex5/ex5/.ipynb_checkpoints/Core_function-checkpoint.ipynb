{
 "cells": [
  {
   "cell_type": "code",
   "execution_count": 1,
   "metadata": {},
   "outputs": [],
   "source": [
    "#for pandas\n",
    "import pandas as pd"
   ]
  },
  {
   "cell_type": "code",
   "execution_count": 2,
   "metadata": {},
   "outputs": [],
   "source": [
    "#for numpy\n",
    "import numpy as np"
   ]
  },
  {
   "cell_type": "code",
   "execution_count": 3,
   "metadata": {},
   "outputs": [],
   "source": [
    "#for matplotlib\n",
    "import matplotlib.pyplot as plt"
   ]
  },
  {
   "cell_type": "code",
   "execution_count": 4,
   "metadata": {},
   "outputs": [],
   "source": [
    "#for laodng .mat extension files into program\n",
    "import scipy.io as sci"
   ]
  },
  {
   "cell_type": "code",
   "execution_count": 5,
   "metadata": {},
   "outputs": [],
   "source": [
    "def compute_cost(theta,x,y,lambo=0):\n",
    "    [m,n]=x.shape\n",
    "    hey=((x.dot(theta))-y)**2\n",
    "    cost=np.sum(hey)\n",
    "    costt=cost/(2*m)\n",
    "    costt=costt+((lambo/(2*m))*(float(theta[1])**2))\n",
    "    return costt\n"
   ]
  },
  {
   "cell_type": "code",
   "execution_count": 6,
   "metadata": {},
   "outputs": [],
   "source": [
    "def compute_grad(theta,x,y,lambo=0):\n",
    "    m=len(y)\n",
    "    grad=(np.transpose(x).dot((x.dot(theta))-y))\n",
    "    grad=grad/m\n",
    "    grad[1:]=grad[1:]+(lambo/m)*theta[1:]\n",
    "    return grad"
   ]
  },
  {
   "cell_type": "code",
   "execution_count": 7,
   "metadata": {},
   "outputs": [],
   "source": [
    "def plottrain(data):\n",
    "    plt.scatter(data[\"X\"],data[\"y\"],c=\"r\",marker=\"x\",alpha=0.8)\n",
    "    plt.xlabel(\"Change in water level (x)\")\n",
    "    plt.ylabel(\"Water flowing out of dam (y)\")"
   ]
  },
  {
   "cell_type": "code",
   "execution_count": 8,
   "metadata": {},
   "outputs": [],
   "source": [
    "def plotreg(theta,x):\n",
    "    hexy=np.linspace(-50,50,100)\n",
    "    heyy=float(theta[0])+(theta[1]*hexy)\n",
    "    plt.plot(hexy,heyy,c='blue')"
   ]
  },
  {
   "cell_type": "code",
   "execution_count": 9,
   "metadata": {},
   "outputs": [],
   "source": [
    "def plotregpoly(theta,degree,data,mu,sig):\n",
    "    hexy=np.linspace(-50,50,1000)\n",
    "    spydy=(polymap(hexy,degree))\n",
    "    spydy=featurenormalize_mu_sig(spydy,mu,sig)\n",
    "    heyy=spydy.dot(theta)\n",
    "    plt.ylim(-10,50)\n",
    "    plottrain(data)\n",
    "    plt.plot(hexy,heyy,c='b')\n",
    "    "
   ]
  },
  {
   "cell_type": "code",
   "execution_count": 10,
   "metadata": {},
   "outputs": [],
   "source": [
    "def polymap(x,degree):\n",
    "    hey=pd.DataFrame(None)\n",
    "    spy=np.flip(np.arange(0,degree+1),0)\n",
    "    for i in spy:\n",
    "        hey.insert(0,\" \",x**i,allow_duplicates=True)\n",
    "    hey=np.array(hey)\n",
    "    return hey"
   ]
  },
  {
   "cell_type": "code",
   "execution_count": 11,
   "metadata": {},
   "outputs": [],
   "source": [
    "def featurenormalize(x):\n",
    "    [m,n]=x.shape\n",
    "    mu=(1/m)*np.sum(x,0)\n",
    "    sig=np.std(x,0)\n",
    "    x[:,1:]=(x[:,1:]-mu[1:])/sig[1:]\n",
    "    return x,mu,sig"
   ]
  },
  {
   "cell_type": "code",
   "execution_count": 12,
   "metadata": {},
   "outputs": [],
   "source": [
    "def featurenormalize_mu_sig(x,mu,sig):\n",
    "    x[:,1:]=(x[:,1:]-mu[1:])/sig[1:]\n",
    "    return x"
   ]
  },
  {
   "cell_type": "code",
   "execution_count": 13,
   "metadata": {},
   "outputs": [],
   "source": [
    "def learning_curve_plot(mset,J_val_val,J_val_train):\n",
    "    plt.figure(figsize=(20,10))\n",
    "    plt.plot(mset,np.array(J_val_train),c='blue')\n",
    "    plt.plot(np.arange(1,mtrain+1,1),np.array(J_val_val),c='green')\n",
    "    plt.xlabel(\"Training set size\")\n",
    "    plt.ylabel(\"Error\")\n",
    "    plt.legend([\"Training set\",\"Validation set\"])"
   ]
  },
  {
   "cell_type": "code",
   "execution_count": 14,
   "metadata": {},
   "outputs": [],
   "source": [
    "#location of data file to be loaded into program\n",
    "datafileloc=\"C:/Users/Ritik/Desktop/Projects_Flash/Done using Python_Andrew_Ng_Coursera/Week 6/machine-learning-ex5/ex5/ex5data1.mat\""
   ]
  },
  {
   "cell_type": "code",
   "execution_count": 15,
   "metadata": {},
   "outputs": [],
   "source": [
    "data=sci.loadmat(datafileloc)"
   ]
  },
  {
   "cell_type": "code",
   "execution_count": 16,
   "metadata": {},
   "outputs": [
    {
     "name": "stdout",
     "output_type": "stream",
     "text": [
      "<class 'dict'>\n"
     ]
    }
   ],
   "source": [
    "print(type(data))"
   ]
  },
  {
   "cell_type": "code",
   "execution_count": 17,
   "metadata": {},
   "outputs": [
    {
     "name": "stdout",
     "output_type": "stream",
     "text": [
      "__header__\n",
      "__version__\n",
      "__globals__\n",
      "X\n",
      "y\n",
      "Xtest\n",
      "ytest\n",
      "Xval\n",
      "yval\n"
     ]
    }
   ],
   "source": [
    "for i in data:\n",
    "    print(i)"
   ]
  },
  {
   "cell_type": "code",
   "execution_count": 18,
   "metadata": {},
   "outputs": [],
   "source": [
    "xtrain=np.array(data[\"X\"])\n",
    "ytrain=np.array(data[\"y\"])\n",
    "xtest=np.array(data[\"Xtest\"])\n",
    "ytest=np.array(data[\"ytest\"])\n",
    "xval=np.array(data[\"Xval\"])\n",
    "yval=np.array(data[\"yval\"])"
   ]
  },
  {
   "cell_type": "code",
   "execution_count": 19,
   "metadata": {},
   "outputs": [
    {
     "name": "stdout",
     "output_type": "stream",
     "text": [
      "[12, 1]\n"
     ]
    }
   ],
   "source": [
    "[mtrain,ntrain]=xtrain.shape\n",
    "print([mtrain,ntrain])"
   ]
  },
  {
   "cell_type": "code",
   "execution_count": 20,
   "metadata": {},
   "outputs": [
    {
     "name": "stdout",
     "output_type": "stream",
     "text": [
      "[21, 1]\n"
     ]
    }
   ],
   "source": [
    "[mtest,ntest]=xtest.shape\n",
    "print([mtest,ntest])"
   ]
  },
  {
   "cell_type": "code",
   "execution_count": 21,
   "metadata": {},
   "outputs": [
    {
     "name": "stdout",
     "output_type": "stream",
     "text": [
      "[21, 1]\n"
     ]
    }
   ],
   "source": [
    "[mval,nval]=xval.shape\n",
    "print([mval,nval])"
   ]
  },
  {
   "cell_type": "code",
   "execution_count": 22,
   "metadata": {},
   "outputs": [
    {
     "data": {
      "image/png": "[encoded data removed]",
      "text/plain": [
       "<matplotlib.figure.Figure at 0x185401bbcf8>"
      ]
     },
     "metadata": {},
     "output_type": "display_data"
    }
   ],
   "source": [
    "plottrain(data)"
   ]
  },
  {
   "cell_type": "code",
   "execution_count": 23,
   "metadata": {},
   "outputs": [],
   "source": [
    "xtrain=pd.DataFrame(xtrain)\n",
    "xtest=pd.DataFrame(xtest)\n",
    "xval=pd.DataFrame(xval)"
   ]
  },
  {
   "cell_type": "code",
   "execution_count": 24,
   "metadata": {},
   "outputs": [],
   "source": [
    "xtrain.insert(0,\"extra\",np.ones(mtrain))\n",
    "xtest.insert(0,\"extra\",np.ones(mtest))\n",
    "xval.insert(0,\"extra\",np.ones(mval))"
   ]
  },
  {
   "cell_type": "code",
   "execution_count": 25,
   "metadata": {},
   "outputs": [],
   "source": [
    "xtrain=xtrain.as_matrix()\n",
    "xval=xval.as_matrix()\n",
    "xtest=xtest.as_matrix()"
   ]
  },
  {
   "cell_type": "code",
   "execution_count": 26,
   "metadata": {},
   "outputs": [
    {
     "name": "stdout",
     "output_type": "stream",
     "text": [
      "[[  1.         -15.93675813]\n",
      " [  1.         -29.15297922]\n",
      " [  1.          36.18954863]\n",
      " [  1.          37.49218733]\n",
      " [  1.         -48.05882945]\n",
      " [  1.          -8.94145794]\n",
      " [  1.          15.30779289]\n",
      " [  1.         -34.70626581]\n",
      " [  1.           1.38915437]\n",
      " [  1.         -44.38375985]\n",
      " [  1.           7.01350208]\n",
      " [  1.          22.76274892]]\n"
     ]
    }
   ],
   "source": [
    "print(xtrain)"
   ]
  },
  {
   "cell_type": "code",
   "execution_count": 27,
   "metadata": {},
   "outputs": [
    {
     "name": "stdout",
     "output_type": "stream",
     "text": [
      "[[ 2.13431051]\n",
      " [ 1.17325668]\n",
      " [34.35910918]\n",
      " [36.83795516]\n",
      " [ 2.80896507]\n",
      " [ 2.12107248]\n",
      " [14.71026831]\n",
      " [ 2.61418439]\n",
      " [ 3.74017167]\n",
      " [ 3.73169131]\n",
      " [ 7.62765885]\n",
      " [22.7524283 ]]\n"
     ]
    }
   ],
   "source": [
    "print(ytrain)"
   ]
  },
  {
   "cell_type": "code",
   "execution_count": 28,
   "metadata": {},
   "outputs": [
    {
     "name": "stdout",
     "output_type": "stream",
     "text": [
      "[[  1.         -33.31800399]\n",
      " [  1.         -37.91216403]\n",
      " [  1.         -51.20693795]\n",
      " [  1.          -6.13259585]\n",
      " [  1.          21.26118327]\n",
      " [  1.         -40.31952949]\n",
      " [  1.         -14.54153167]\n",
      " [  1.          32.55976024]\n",
      " [  1.          13.39343255]\n",
      " [  1.          44.20988595]\n",
      " [  1.          -1.14267768]\n",
      " [  1.         -12.76686065]\n",
      " [  1.          34.05450539]\n",
      " [  1.          39.22350028]\n",
      " [  1.           1.97449674]\n",
      " [  1.          29.6217551 ]\n",
      " [  1.         -23.66962971]\n",
      " [  1.          -9.01180139]\n",
      " [  1.         -55.94057091]\n",
      " [  1.         -35.70859752]\n",
      " [  1.           9.51020533]]\n"
     ]
    }
   ],
   "source": [
    "print(xtest)"
   ]
  },
  {
   "cell_type": "code",
   "execution_count": 29,
   "metadata": {},
   "outputs": [
    {
     "name": "stdout",
     "output_type": "stream",
     "text": [
      "[[ 3.31688953]\n",
      " [ 5.39768952]\n",
      " [ 0.13042984]\n",
      " [ 6.1925982 ]\n",
      " [17.08848712]\n",
      " [ 0.79950805]\n",
      " [ 2.82479183]\n",
      " [28.62123334]\n",
      " [17.04639081]\n",
      " [55.38437334]\n",
      " [ 4.07936733]\n",
      " [ 8.27039793]\n",
      " [31.32355102]\n",
      " [39.15906103]\n",
      " [ 8.08727989]\n",
      " [24.11134389]\n",
      " [ 2.4773548 ]\n",
      " [ 6.56606472]\n",
      " [ 6.0380888 ]\n",
      " [ 4.69273956]\n",
      " [10.83004606]]\n"
     ]
    }
   ],
   "source": [
    "print(ytest)"
   ]
  },
  {
   "cell_type": "code",
   "execution_count": 30,
   "metadata": {},
   "outputs": [
    {
     "name": "stdout",
     "output_type": "stream",
     "text": [
      "[[  1.         -16.74653578]\n",
      " [  1.         -14.57747075]\n",
      " [  1.          34.51575866]\n",
      " [  1.         -47.01007574]\n",
      " [  1.          36.97511905]\n",
      " [  1.         -40.68611002]\n",
      " [  1.          -4.47201098]\n",
      " [  1.          26.53363489]\n",
      " [  1.         -42.7976831 ]\n",
      " [  1.          25.37409938]\n",
      " [  1.         -31.10955398]\n",
      " [  1.          27.31176864]\n",
      " [  1.          -3.26386201]\n",
      " [  1.          -1.81827649]\n",
      " [  1.         -40.7196624 ]\n",
      " [  1.         -50.01324365]\n",
      " [  1.         -17.41177155]\n",
      " [  1.           3.5881937 ]\n",
      " [  1.           7.08548026]\n",
      " [  1.          46.28236902]\n",
      " [  1.          14.61228909]]\n"
     ]
    }
   ],
   "source": [
    "print(xval)"
   ]
  },
  {
   "cell_type": "code",
   "execution_count": 31,
   "metadata": {},
   "outputs": [
    {
     "name": "stdout",
     "output_type": "stream",
     "text": [
      "[[ 4.17020201e+00]\n",
      " [ 4.06726280e+00]\n",
      " [ 3.18730676e+01]\n",
      " [ 1.06236562e+01]\n",
      " [ 3.18360213e+01]\n",
      " [ 4.95936972e+00]\n",
      " [ 4.45159880e+00]\n",
      " [ 2.22763185e+01]\n",
      " [-4.38738274e-05]\n",
      " [ 2.05038016e+01]\n",
      " [ 3.85834476e+00]\n",
      " [ 1.93650529e+01]\n",
      " [ 4.88376281e+00]\n",
      " [ 1.10971588e+01]\n",
      " [ 7.46170827e+00]\n",
      " [ 1.47693464e+00]\n",
      " [ 2.71916388e+00]\n",
      " [ 1.09269007e+01]\n",
      " [ 8.34871235e+00]\n",
      " [ 5.27819280e+01]\n",
      " [ 1.33573396e+01]]\n"
     ]
    }
   ],
   "source": [
    "print(yval)\n"
   ]
  },
  {
   "cell_type": "code",
   "execution_count": 32,
   "metadata": {},
   "outputs": [
    {
     "name": "stdout",
     "output_type": "stream",
     "text": [
      "<class 'numpy.ndarray'>\n",
      "<class 'numpy.ndarray'>\n",
      "<class 'numpy.ndarray'>\n",
      "<class 'numpy.ndarray'>\n",
      "<class 'numpy.ndarray'>\n",
      "<class 'numpy.ndarray'>\n"
     ]
    }
   ],
   "source": [
    "print(type(xtrain))\n",
    "print(type(ytrain))\n",
    "print(type(xtest))\n",
    "print(type(ytest))\n",
    "print(type(xval))\n",
    "print(type(yval))"
   ]
  },
  {
   "cell_type": "code",
   "execution_count": 33,
   "metadata": {},
   "outputs": [
    {
     "name": "stdout",
     "output_type": "stream",
     "text": [
      "[12, 2]\n"
     ]
    }
   ],
   "source": [
    "[mtrain,ntrain]=xtrain.shape\n",
    "print([mtrain,ntrain])"
   ]
  },
  {
   "cell_type": "code",
   "execution_count": 34,
   "metadata": {},
   "outputs": [
    {
     "name": "stdout",
     "output_type": "stream",
     "text": [
      "[21, 2]\n"
     ]
    }
   ],
   "source": [
    "[mtest,ntest]=xtest.shape\n",
    "print([mtest,ntest])"
   ]
  },
  {
   "cell_type": "code",
   "execution_count": 35,
   "metadata": {},
   "outputs": [
    {
     "name": "stdout",
     "output_type": "stream",
     "text": [
      "[21, 2]\n"
     ]
    }
   ],
   "source": [
    "[mval,nval]=xval.shape\n",
    "print([mval,nval])"
   ]
  },
  {
   "cell_type": "code",
   "execution_count": 36,
   "metadata": {},
   "outputs": [
    {
     "name": "stdout",
     "output_type": "stream",
     "text": [
      "(2, 1)\n"
     ]
    }
   ],
   "source": [
    "theta=np.ones((2,1))\n",
    "print(theta.shape)"
   ]
  },
  {
   "cell_type": "code",
   "execution_count": 37,
   "metadata": {},
   "outputs": [
    {
     "name": "stdout",
     "output_type": "stream",
     "text": [
      "[303.9931922202643]\n"
     ]
    }
   ],
   "source": [
    "J_val=[compute_cost(theta,xtrain,ytrain,1)]\n",
    "print(J_val)"
   ]
  },
  {
   "cell_type": "code",
   "execution_count": 38,
   "metadata": {},
   "outputs": [
    {
     "name": "stdout",
     "output_type": "stream",
     "text": [
      "[[-15.30301567]\n",
      " [598.25074417]]\n"
     ]
    }
   ],
   "source": [
    "print(compute_grad(theta,xtrain,ytrain,1))"
   ]
  },
  {
   "cell_type": "code",
   "execution_count": 39,
   "metadata": {},
   "outputs": [],
   "source": [
    "iterations=40000\n",
    "alpha=0.001\n",
    "ite=np.array([i for i in range(0,iterations+1)])"
   ]
  },
  {
   "cell_type": "code",
   "execution_count": 40,
   "metadata": {},
   "outputs": [],
   "source": [
    "for i in range(0,iterations):\n",
    "    theta=theta-alpha*(compute_grad(theta,xtrain,ytrain))\n",
    "    J_val.append(compute_cost(theta,xtrain,ytrain))"
   ]
  },
  {
   "cell_type": "code",
   "execution_count": 41,
   "metadata": {},
   "outputs": [
    {
     "name": "stdout",
     "output_type": "stream",
     "text": [
      "[[13.08790351]\n",
      " [ 0.36777923]]\n",
      "(40001,)\n",
      "(40001,)\n"
     ]
    }
   ],
   "source": [
    "print(theta)\n",
    "print(ite.shape)\n",
    "print(np.array(J_val).shape)"
   ]
  },
  {
   "cell_type": "code",
   "execution_count": 42,
   "metadata": {},
   "outputs": [
    {
     "data": {
      "text/plain": [
       "Text(0,0.5,'In sample error')"
      ]
     },
     "execution_count": 42,
     "metadata": {},
     "output_type": "execute_result"
    },
    {
     "data": {
      "image/png": "[encoded data removed]",
      "text/plain": [
       "<matplotlib.figure.Figure at 0x185402d2588>"
      ]
     },
     "metadata": {},
     "output_type": "display_data"
    }
   ],
   "source": [
    "plt.plot(ite,np.array(J_val),c='blue')\n",
    "plt.xlabel(\"No. of iterations\")\n",
    "plt.ylabel(\"In sample error\")"
   ]
  },
  {
   "cell_type": "code",
   "execution_count": 43,
   "metadata": {},
   "outputs": [
    {
     "data": {
      "image/png": "[encoded data removed]",
      "text/plain": [
       "<matplotlib.figure.Figure at 0x1854028c160>"
      ]
     },
     "metadata": {},
     "output_type": "display_data"
    }
   ],
   "source": [
    "plottrain(data)\n",
    "plotreg(theta,xtrain)"
   ]
  },
  {
   "cell_type": "code",
   "execution_count": 44,
   "metadata": {},
   "outputs": [],
   "source": [
    "#Now performing learning curve analysis "
   ]
  },
  {
   "cell_type": "code",
   "execution_count": 45,
   "metadata": {},
   "outputs": [],
   "source": [
    "iterations=40000\n",
    "alpha=0.001\n",
    "J_val_train=[]\n",
    "J_val_val=[]\n",
    "mset=[i for i in range(1,mtrain+1)]"
   ]
  },
  {
   "cell_type": "code",
   "execution_count": 46,
   "metadata": {},
   "outputs": [],
   "source": [
    "for m in range(1,mtrain+1):\n",
    "    theta=np.ones((2,1))\n",
    "    for i in range(0,iterations):\n",
    "        theta=theta-alpha*(compute_grad(theta,xtrain[0:m,:],ytrain[0:m]))\n",
    "    J_val_train.append(compute_cost(theta,xtrain[0:m,:],ytrain[0:m]))\n",
    "    J_val_val.append(compute_cost(theta,xval,yval))"
   ]
  },
  {
   "cell_type": "code",
   "execution_count": 47,
   "metadata": {},
   "outputs": [
    {
     "data": {
      "image/png": "[encoded data removed]",
      "text/plain": [
       "<matplotlib.figure.Figure at 0x185416b8400>"
      ]
     },
     "metadata": {},
     "output_type": "display_data"
    }
   ],
   "source": [
    "learning_curve_plot(mset,J_val_val,J_val_train)"
   ]
  },
  {
   "cell_type": "code",
   "execution_count": 48,
   "metadata": {},
   "outputs": [],
   "source": [
    "#clearlt this underfits even with regularization parameter=0\n",
    "#Thus this is problem of high bias and solution is to include new features"
   ]
  },
  {
   "cell_type": "code",
   "execution_count": 49,
   "metadata": {},
   "outputs": [],
   "source": [
    "degree=8\n",
    "xtrain_polyone=polymap(xtrain[:,1],degree)"
   ]
  },
  {
   "cell_type": "code",
   "execution_count": 50,
   "metadata": {},
   "outputs": [
    {
     "name": "stdout",
     "output_type": "stream",
     "text": [
      "(12, 9)\n"
     ]
    }
   ],
   "source": [
    "print(xtrain_polyone.shape)"
   ]
  },
  {
   "cell_type": "code",
   "execution_count": 51,
   "metadata": {},
   "outputs": [],
   "source": [
    "xtrain_polyone,mu,sig=featurenormalize(xtrain_polyone)"
   ]
  },
  {
   "cell_type": "code",
   "execution_count": 52,
   "metadata": {},
   "outputs": [
    {
     "name": "stdout",
     "output_type": "stream",
     "text": [
      "[12, 9]\n"
     ]
    }
   ],
   "source": [
    "#print(xtrain_polyone)\n",
    "[mtrain,ntrain]=xtrain_polyone.shape\n",
    "print([mtrain,ntrain])"
   ]
  },
  {
   "cell_type": "code",
   "execution_count": 53,
   "metadata": {},
   "outputs": [],
   "source": [
    "xval_polyone=polymap(xval[:,1],degree)\n",
    "xval_polyone=featurenormalize_mu_sig(xval_polyone,mu,sig)"
   ]
  },
  {
   "cell_type": "code",
   "execution_count": 54,
   "metadata": {},
   "outputs": [],
   "source": [
    "xtest_polyone=polymap(xtest[:,1],degree)\n",
    "xtest_polyone=featurenormalize_mu_sig(xtest_polyone,mu,sig)"
   ]
  },
  {
   "cell_type": "code",
   "execution_count": 55,
   "metadata": {},
   "outputs": [],
   "source": [
    "#now running gradient descent with regularization parameter and observing learning curve we will deduce further action "
   ]
  },
  {
   "cell_type": "code",
   "execution_count": 56,
   "metadata": {},
   "outputs": [],
   "source": [
    "theta=np.ones((ntrain,1))"
   ]
  },
  {
   "cell_type": "code",
   "execution_count": 57,
   "metadata": {},
   "outputs": [],
   "source": [
    "iterations=40000\n",
    "alpha=0.001\n",
    "smallJ_val=[compute_cost(theta,xtrain_polyone,ytrain)]\n",
    "J_val_train=[]\n",
    "J_val_val=[]\n",
    "mset=[i for i in range(1,mtrain+1)]\n",
    "ite=np.array([i for i in range(0,iterations+1)])"
   ]
  },
  {
   "cell_type": "code",
   "execution_count": 58,
   "metadata": {},
   "outputs": [],
   "source": [
    "for i in range(0,iterations):\n",
    "        theta=theta-alpha*(compute_grad(theta,xtrain_polyone,ytrain))\n",
    "        smallJ_val.append(compute_cost(theta,xtrain_polyone,ytrain))"
   ]
  },
  {
   "cell_type": "code",
   "execution_count": 59,
   "metadata": {},
   "outputs": [
    {
     "name": "stdout",
     "output_type": "stream",
     "text": [
      "[[11.21758933]\n",
      " [11.53970404]\n",
      " [ 7.57800467]\n",
      " [ 1.54218962]\n",
      " [ 1.07905721]\n",
      " [-0.13732394]\n",
      " [-0.40936329]\n",
      " [ 0.55507756]\n",
      " [-0.92952515]]\n"
     ]
    }
   ],
   "source": [
    "print(theta)"
   ]
  },
  {
   "cell_type": "code",
   "execution_count": 60,
   "metadata": {},
   "outputs": [
    {
     "data": {
      "text/plain": [
       "Text(0,0.5,'In sample error')"
      ]
     },
     "execution_count": 60,
     "metadata": {},
     "output_type": "execute_result"
    },
    {
     "data": {
      "image/png": "[encoded data removed]",
      "text/plain": [
       "<matplotlib.figure.Figure at 0x18541b4cb38>"
      ]
     },
     "metadata": {},
     "output_type": "display_data"
    }
   ],
   "source": [
    "plt.plot(ite,np.array(smallJ_val),c='blue')\n",
    "plt.xlabel(\"No. of iterations\")\n",
    "plt.ylabel(\"In sample error\")"
   ]
  },
  {
   "cell_type": "code",
   "execution_count": 61,
   "metadata": {},
   "outputs": [
    {
     "data": {
      "image/png": "[encoded data removed]",
      "text/plain": [
       "<matplotlib.figure.Figure at 0x185416a0908>"
      ]
     },
     "metadata": {},
     "output_type": "display_data"
    }
   ],
   "source": [
    "plotregpoly(theta,degree,data,mu,sig)"
   ]
  },
  {
   "cell_type": "code",
   "execution_count": 62,
   "metadata": {},
   "outputs": [],
   "source": [
    "for m in range(1,mtrain+1):\n",
    "    theta=np.ones((ntrain,1))\n",
    "    for i in range(0,iterations):\n",
    "        theta=theta-alpha*(compute_grad(theta,xtrain_polyone[0:m,:],ytrain[0:m]))\n",
    "    J_val_train.append(compute_cost(theta,xtrain_polyone[0:m,:],ytrain[0:m]))\n",
    "    J_val_val.append(compute_cost(theta,xval_polyone,yval))"
   ]
  },
  {
   "cell_type": "code",
   "execution_count": 63,
   "metadata": {},
   "outputs": [
    {
     "data": {
      "image/png": "[encoded data removed]",
      "text/plain": [
       "<matplotlib.figure.Figure at 0x1854188f4e0>"
      ]
     },
     "metadata": {},
     "output_type": "display_data"
    }
   ],
   "source": [
    "learning_curve_plot(mset,J_val_val,J_val_train)"
   ]
  },
  {
   "cell_type": "code",
   "execution_count": 64,
   "metadata": {},
   "outputs": [],
   "source": [
    "#now for lambda=1"
   ]
  },
  {
   "cell_type": "code",
   "execution_count": 65,
   "metadata": {},
   "outputs": [],
   "source": [
    "theta=np.ones((ntrain,1))"
   ]
  },
  {
   "cell_type": "code",
   "execution_count": 66,
   "metadata": {},
   "outputs": [],
   "source": [
    "iterations=40000\n",
    "alpha=0.001\n",
    "smallJ_val=[compute_cost(theta,xtrain_polyone,ytrain,1)]\n",
    "J_val_train=[]\n",
    "J_val_val=[]\n",
    "mset=[i for i in range(1,mtrain+1)]\n",
    "ite=np.array([i for i in range(0,iterations+1)])"
   ]
  },
  {
   "cell_type": "code",
   "execution_count": 67,
   "metadata": {},
   "outputs": [],
   "source": [
    "for i in range(0,iterations):\n",
    "        theta=theta-alpha*(compute_grad(theta,xtrain_polyone,ytrain,1))\n",
    "        smallJ_val.append(compute_cost(theta,xtrain_polyone,ytrain,1))"
   ]
  },
  {
   "cell_type": "code",
   "execution_count": 68,
   "metadata": {},
   "outputs": [
    {
     "name": "stdout",
     "output_type": "stream",
     "text": [
      "[[11.21758933]\n",
      " [ 8.35274964]\n",
      " [ 5.07898397]\n",
      " [ 3.38757363]\n",
      " [ 2.16985629]\n",
      " [ 1.63687606]\n",
      " [ 0.99104124]\n",
      " [ 1.05338431]\n",
      " [ 0.34388218]]\n"
     ]
    }
   ],
   "source": [
    "print(theta)"
   ]
  },
  {
   "cell_type": "code",
   "execution_count": 69,
   "metadata": {},
   "outputs": [
    {
     "data": {
      "text/plain": [
       "Text(0,0.5,'In sample error')"
      ]
     },
     "execution_count": 69,
     "metadata": {},
     "output_type": "execute_result"
    },
    {
     "data": {
      "image/png": "[encoded data removed]",
      "text/plain": [
       "<matplotlib.figure.Figure at 0x18541914390>"
      ]
     },
     "metadata": {},
     "output_type": "display_data"
    }
   ],
   "source": [
    "plt.plot(ite,np.array(smallJ_val),c='blue')\n",
    "plt.xlabel(\"No. of iterations\")\n",
    "plt.ylabel(\"In sample error\")"
   ]
  },
  {
   "cell_type": "code",
   "execution_count": 70,
   "metadata": {},
   "outputs": [
    {
     "data": {
      "image/png": "[encoded data removed]",
      "text/plain": [
       "<matplotlib.figure.Figure at 0x18541972a20>"
      ]
     },
     "metadata": {},
     "output_type": "display_data"
    }
   ],
   "source": [
    "plotregpoly(theta,degree,data,mu,sig)"
   ]
  },
  {
   "cell_type": "code",
   "execution_count": 71,
   "metadata": {},
   "outputs": [],
   "source": [
    "for m in range(1,mtrain+1):\n",
    "    theta=np.ones((ntrain,1))\n",
    "    for i in range(0,iterations):\n",
    "        theta=theta-alpha*(compute_grad(theta,xtrain_polyone[0:m,:],ytrain[0:m],1))\n",
    "    J_val_train.append(compute_cost(theta,xtrain_polyone[0:m,:],ytrain[0:m],1))\n",
    "    J_val_val.append(compute_cost(theta,xval_polyone,yval))"
   ]
  },
  {
   "cell_type": "code",
   "execution_count": 72,
   "metadata": {},
   "outputs": [
    {
     "data": {
      "image/png": "[encoded data removed]",
      "text/plain": [
       "<matplotlib.figure.Figure at 0x185419d03c8>"
      ]
     },
     "metadata": {},
     "output_type": "display_data"
    }
   ],
   "source": [
    "learning_curve_plot(mset,J_val_val,J_val_train)"
   ]
  },
  {
   "cell_type": "code",
   "execution_count": 73,
   "metadata": {},
   "outputs": [],
   "source": [
    "#now with regularization parameter = 100"
   ]
  },
  {
   "cell_type": "code",
   "execution_count": 74,
   "metadata": {},
   "outputs": [],
   "source": [
    "theta=np.ones((ntrain,1))"
   ]
  },
  {
   "cell_type": "code",
   "execution_count": 75,
   "metadata": {},
   "outputs": [],
   "source": [
    "iterations=40000\n",
    "alpha=0.001\n",
    "smallJ_val=[compute_cost(theta,xtrain_polyone,ytrain,100)]\n",
    "J_val_train=[]\n",
    "J_val_val=[]\n",
    "mset=[i for i in range(1,mtrain+1)]\n",
    "ite=np.array([i for i in range(0,iterations+1)])"
   ]
  },
  {
   "cell_type": "code",
   "execution_count": 76,
   "metadata": {},
   "outputs": [],
   "source": [
    "for i in range(0,iterations):\n",
    "        theta=theta-alpha*(compute_grad(theta,xtrain_polyone,ytrain,100))\n",
    "        smallJ_val.append(compute_cost(theta,xtrain_polyone,ytrain,100))"
   ]
  },
  {
   "cell_type": "code",
   "execution_count": 77,
   "metadata": {},
   "outputs": [
    {
     "name": "stdout",
     "output_type": "stream",
     "text": [
      "[[11.21758933]\n",
      " [ 0.99128452]\n",
      " [ 0.34101568]\n",
      " [ 0.76526035]\n",
      " [ 0.15687593]\n",
      " [ 0.56654377]\n",
      " [ 0.02895654]\n",
      " [ 0.424678  ]\n",
      " [-0.05196793]]\n"
     ]
    }
   ],
   "source": [
    "print(theta)"
   ]
  },
  {
   "cell_type": "code",
   "execution_count": 78,
   "metadata": {},
   "outputs": [
    {
     "data": {
      "text/plain": [
       "Text(0,0.5,'In sample error')"
      ]
     },
     "execution_count": 78,
     "metadata": {},
     "output_type": "execute_result"
    },
    {
     "data": {
      "image/png": "[encoded data removed]",
      "text/plain": [
       "<matplotlib.figure.Figure at 0x185419ca5c0>"
      ]
     },
     "metadata": {},
     "output_type": "display_data"
    }
   ],
   "source": [
    "plt.plot(ite,np.array(smallJ_val),c='blue')\n",
    "plt.xlabel(\"No. of iterations\")\n",
    "plt.ylabel(\"In sample error\")"
   ]
  },
  {
   "cell_type": "code",
   "execution_count": 79,
   "metadata": {},
   "outputs": [
    {
     "data": {
      "image/png": "[encoded data removed]",
      "text/plain": [
       "<matplotlib.figure.Figure at 0x18541a99278>"
      ]
     },
     "metadata": {},
     "output_type": "display_data"
    }
   ],
   "source": [
    "plotregpoly(theta,degree,data,mu,sig)"
   ]
  },
  {
   "cell_type": "code",
   "execution_count": 80,
   "metadata": {},
   "outputs": [],
   "source": [
    "for m in range(1,mtrain+1):\n",
    "    theta=np.ones((ntrain,1))\n",
    "    for i in range(0,iterations):\n",
    "        theta=theta-alpha*(compute_grad(theta,xtrain_polyone[0:m,:],ytrain[0:m],100))\n",
    "    J_val_train.append(compute_cost(theta,xtrain_polyone[0:m,:],ytrain[0:m],100))\n",
    "    J_val_val.append(compute_cost(theta,xval_polyone,yval))"
   ]
  },
  {
   "cell_type": "code",
   "execution_count": 81,
   "metadata": {},
   "outputs": [
    {
     "data": {
      "image/png": "[encoded data removed]",
      "text/plain": [
       "<matplotlib.figure.Figure at 0x18541a05940>"
      ]
     },
     "metadata": {},
     "output_type": "display_data"
    }
   ],
   "source": [
    "learning_curve_plot(mset,J_val_val,J_val_train)"
   ]
  },
  {
   "cell_type": "code",
   "execution_count": 82,
   "metadata": {},
   "outputs": [],
   "source": [
    "#now selecting best value of regularization parameter with help of validation set"
   ]
  },
  {
   "cell_type": "code",
   "execution_count": 83,
   "metadata": {},
   "outputs": [],
   "source": [
    "#setting values of lambda to choose from\n",
    "lam=np.arange(0.1,10,0.3)"
   ]
  },
  {
   "cell_type": "code",
   "execution_count": 84,
   "metadata": {},
   "outputs": [],
   "source": [
    "J_val_lambda=[]\n",
    "J_train_lambda=[]\n",
    "iterations=40000\n",
    "alpha=0.001"
   ]
  },
  {
   "cell_type": "code",
   "execution_count": 85,
   "metadata": {},
   "outputs": [],
   "source": [
    "for l in lam:\n",
    "    theta=np.ones((ntrain,1))\n",
    "    for i in range(0,iterations):\n",
    "        theta=theta-alpha*(compute_grad(theta,xtrain_polyone,ytrain,l))\n",
    "    J_train_lambda.append(compute_cost(theta,xtrain_polyone,ytrain,l))\n",
    "    J_val_lambda.append(compute_cost(theta,xval_polyone,yval,l))"
   ]
  },
  {
   "cell_type": "code",
   "execution_count": 86,
   "metadata": {},
   "outputs": [
    {
     "data": {
      "text/plain": [
       "<matplotlib.legend.Legend at 0x1854188fac8>"
      ]
     },
     "execution_count": 86,
     "metadata": {},
     "output_type": "execute_result"
    },
    {
     "data": {
      "image/png": "[encoded data removed]",
      "text/plain": [
       "<matplotlib.figure.Figure at 0x18541ab9978>"
      ]
     },
     "metadata": {},
     "output_type": "display_data"
    }
   ],
   "source": [
    "plt.plot(lam,np.array(J_val_lambda),c='green')\n",
    "plt.plot(lam,np.array(J_train_lambda),c='blue')\n",
    "plt.xlabel(\"Value of Regularization Parameter\")\n",
    "plt.ylabel(\"Error\")\n",
    "plt.legend([\"Validation Error\",\"Training error\"])"
   ]
  },
  {
   "cell_type": "code",
   "execution_count": null,
   "metadata": {},
   "outputs": [],
   "source": []
  }
 ],
 "metadata": {
  "kernelspec": {
   "display_name": "Python 3",
   "language": "python",
   "name": "python3"
  },
  "language_info": {
   "codemirror_mode": {
    "name": "ipython",
    "version": 3
   },
   "file_extension": ".py",
   "mimetype": "text/x-python",
   "name": "python",
   "nbconvert_exporter": "python",
   "pygments_lexer": "ipython3",
   "version": "3.6.4"
  }
 },
 "nbformat": 4,
 "nbformat_minor": 2
}
