{
 "cells": [
  {
   "cell_type": "code",
   "execution_count": 1,
   "metadata": {},
   "outputs": [],
   "source": [
    "#for pandas\n",
    "import pandas as pd"
   ]
  },
  {
   "cell_type": "code",
   "execution_count": 2,
   "metadata": {},
   "outputs": [],
   "source": [
    "#for numpy\n",
    "import numpy as np"
   ]
  },
  {
   "cell_type": "code",
   "execution_count": 3,
   "metadata": {},
   "outputs": [],
   "source": [
    "#for matplotlib\n",
    "import matplotlib.pyplot as plt\n"
   ]
  },
  {
   "cell_type": "code",
   "execution_count": 4,
   "metadata": {},
   "outputs": [],
   "source": [
    "#function to calculate hypothesis function i.e. 1/1+exp(z)\n",
    "def gz(theta,x):\n",
    "  hey=x.dot(theta)\n",
    "  heyt=1+np.exp((-1)*hey)\n",
    "  heytt=1/(heyt)\n",
    "  return heytt"
   ]
  },
  {
   "cell_type": "code",
   "execution_count": 5,
   "metadata": {},
   "outputs": [],
   "source": [
    "#function to calculate error\n",
    "def compute_cost(theta,x,y,m):\n",
    "  z=gz(theta,x)\n",
    "  t=(1/m)*np.sum(((-1)*y*np.log(z))-((1-y)*np.log(1-z)))\n",
    "  return t"
   ]
  },
  {
   "cell_type": "code",
   "execution_count": 6,
   "metadata": {},
   "outputs": [],
   "source": [
    "#location of file containing data\n",
    "datafileloc=\"C:/Users/RitKat/Desktop/Projects_Flash/Done using Python_Andrew_Ng_Coursera/Week 3/machine-learning-ex2/ex2/Data_1/ex2data1.txt\""
   ]
  },
  {
   "cell_type": "code",
   "execution_count": 7,
   "metadata": {},
   "outputs": [],
   "source": [
    "#reading csv file\n",
    "data=pd.read_csv(datafileloc,header=None,names=[\"Score_1\",\"Score_2\",\"Admission_Decision\"])"
   ]
  },
  {
   "cell_type": "code",
   "execution_count": 8,
   "metadata": {},
   "outputs": [
    {
     "name": "stdout",
     "output_type": "stream",
     "text": [
      "      Score_1    Score_2  Admission_Decision\n",
      "0   34.623660  78.024693                   0\n",
      "1   30.286711  43.894998                   0\n",
      "2   35.847409  72.902198                   0\n",
      "3   60.182599  86.308552                   1\n",
      "4   79.032736  75.344376                   1\n",
      "5   45.083277  56.316372                   0\n",
      "6   61.106665  96.511426                   1\n",
      "7   75.024746  46.554014                   1\n",
      "8   76.098787  87.420570                   1\n",
      "9   84.432820  43.533393                   1\n",
      "10  95.861555  38.225278                   0\n",
      "11  75.013658  30.603263                   0\n",
      "12  82.307053  76.481963                   1\n",
      "13  69.364589  97.718692                   1\n",
      "14  39.538339  76.036811                   0\n",
      "15  53.971052  89.207350                   1\n",
      "16  69.070144  52.740470                   1\n",
      "17  67.946855  46.678574                   0\n",
      "18  70.661510  92.927138                   1\n",
      "19  76.978784  47.575964                   1\n",
      "20  67.372028  42.838438                   0\n",
      "21  89.676776  65.799366                   1\n",
      "22  50.534788  48.855812                   0\n",
      "23  34.212061  44.209529                   0\n",
      "24  77.924091  68.972360                   1\n",
      "25  62.271014  69.954458                   1\n",
      "26  80.190181  44.821629                   1\n",
      "27  93.114389  38.800670                   0\n",
      "28  61.830206  50.256108                   0\n",
      "29  38.785804  64.995681                   0\n",
      "..        ...        ...                 ...\n",
      "70  32.722833  43.307173                   0\n",
      "71  64.039320  78.031688                   1\n",
      "72  72.346494  96.227593                   1\n",
      "73  60.457886  73.094998                   1\n",
      "74  58.840956  75.858448                   1\n",
      "75  99.827858  72.369252                   1\n",
      "76  47.264269  88.475865                   1\n",
      "77  50.458160  75.809860                   1\n",
      "78  60.455556  42.508409                   0\n",
      "79  82.226662  42.719879                   0\n",
      "80  88.913896  69.803789                   1\n",
      "81  94.834507  45.694307                   1\n",
      "82  67.319257  66.589353                   1\n",
      "83  57.238706  59.514282                   1\n",
      "84  80.366756  90.960148                   1\n",
      "85  68.468522  85.594307                   1\n",
      "86  42.075455  78.844786                   0\n",
      "87  75.477702  90.424539                   1\n",
      "88  78.635424  96.647427                   1\n",
      "89  52.348004  60.769505                   0\n",
      "90  94.094331  77.159105                   1\n",
      "91  90.448551  87.508792                   1\n",
      "92  55.482161  35.570703                   0\n",
      "93  74.492692  84.845137                   1\n",
      "94  89.845807  45.358284                   1\n",
      "95  83.489163  48.380286                   1\n",
      "96  42.261701  87.103851                   1\n",
      "97  99.315009  68.775409                   1\n",
      "98  55.340018  64.931938                   1\n",
      "99  74.775893  89.529813                   1\n",
      "\n",
      "[100 rows x 3 columns]\n"
     ]
    }
   ],
   "source": [
    "print(data)"
   ]
  },
  {
   "cell_type": "code",
   "execution_count": 9,
   "metadata": {},
   "outputs": [
    {
     "data": {
      "text/plain": [
       "<matplotlib.legend.Legend at 0x24e3f49f630>"
      ]
     },
     "execution_count": 9,
     "metadata": {},
     "output_type": "execute_result"
    },
    {
     "data": {
      "image/png": "[encoded data removed]",
      "text/plain": [
       "<matplotlib.figure.Figure at 0x24e3f16f860>"
      ]
     },
     "metadata": {},
     "output_type": "display_data"
    }
   ],
   "source": [
    "#plotting scattered plot of classification data of training examples iwth binary possible output\n",
    "cracken=data[\"Admission_Decision\"]==0\n",
    "jack=data[cracken]\n",
    "plt.scatter(jack[\"Score_1\"],jack[\"Score_2\"],c='y',marker=\"o\",alpha=0.9)\n",
    "crackent=data[\"Admission_Decision\"]==1\n",
    "jackt=data[crackent]\n",
    "plt.scatter(jackt[\"Score_1\"],jackt[\"Score_2\"],c='black',marker=\"+\",alpha=0.9)\n",
    "plt.legend([\"Admitted\",\"Not Admitted\"])"
   ]
  },
  {
   "cell_type": "code",
   "execution_count": 10,
   "metadata": {},
   "outputs": [
    {
     "name": "stdout",
     "output_type": "stream",
     "text": [
      "3\n",
      "100\n"
     ]
    }
   ],
   "source": [
    "[m,nx]=data.shape\n",
    "print(nx)\n",
    "print(m)"
   ]
  },
  {
   "cell_type": "code",
   "execution_count": 11,
   "metadata": {},
   "outputs": [],
   "source": [
    "#adding bias column or column with each value 1, as required by the Linear regression algorithm\n",
    "data.insert(0,\"Extra\",np.ones(m))"
   ]
  },
  {
   "cell_type": "code",
   "execution_count": 12,
   "metadata": {},
   "outputs": [
    {
     "name": "stdout",
     "output_type": "stream",
     "text": [
      "    Extra    Score_1    Score_2  Admission_Decision\n",
      "0     1.0  34.623660  78.024693                   0\n",
      "1     1.0  30.286711  43.894998                   0\n",
      "2     1.0  35.847409  72.902198                   0\n",
      "3     1.0  60.182599  86.308552                   1\n",
      "4     1.0  79.032736  75.344376                   1\n",
      "5     1.0  45.083277  56.316372                   0\n",
      "6     1.0  61.106665  96.511426                   1\n",
      "7     1.0  75.024746  46.554014                   1\n",
      "8     1.0  76.098787  87.420570                   1\n",
      "9     1.0  84.432820  43.533393                   1\n",
      "10    1.0  95.861555  38.225278                   0\n",
      "11    1.0  75.013658  30.603263                   0\n",
      "12    1.0  82.307053  76.481963                   1\n",
      "13    1.0  69.364589  97.718692                   1\n",
      "14    1.0  39.538339  76.036811                   0\n",
      "15    1.0  53.971052  89.207350                   1\n",
      "16    1.0  69.070144  52.740470                   1\n",
      "17    1.0  67.946855  46.678574                   0\n",
      "18    1.0  70.661510  92.927138                   1\n",
      "19    1.0  76.978784  47.575964                   1\n",
      "20    1.0  67.372028  42.838438                   0\n",
      "21    1.0  89.676776  65.799366                   1\n",
      "22    1.0  50.534788  48.855812                   0\n",
      "23    1.0  34.212061  44.209529                   0\n",
      "24    1.0  77.924091  68.972360                   1\n",
      "25    1.0  62.271014  69.954458                   1\n",
      "26    1.0  80.190181  44.821629                   1\n",
      "27    1.0  93.114389  38.800670                   0\n",
      "28    1.0  61.830206  50.256108                   0\n",
      "29    1.0  38.785804  64.995681                   0\n",
      "..    ...        ...        ...                 ...\n",
      "70    1.0  32.722833  43.307173                   0\n",
      "71    1.0  64.039320  78.031688                   1\n",
      "72    1.0  72.346494  96.227593                   1\n",
      "73    1.0  60.457886  73.094998                   1\n",
      "74    1.0  58.840956  75.858448                   1\n",
      "75    1.0  99.827858  72.369252                   1\n",
      "76    1.0  47.264269  88.475865                   1\n",
      "77    1.0  50.458160  75.809860                   1\n",
      "78    1.0  60.455556  42.508409                   0\n",
      "79    1.0  82.226662  42.719879                   0\n",
      "80    1.0  88.913896  69.803789                   1\n",
      "81    1.0  94.834507  45.694307                   1\n",
      "82    1.0  67.319257  66.589353                   1\n",
      "83    1.0  57.238706  59.514282                   1\n",
      "84    1.0  80.366756  90.960148                   1\n",
      "85    1.0  68.468522  85.594307                   1\n",
      "86    1.0  42.075455  78.844786                   0\n",
      "87    1.0  75.477702  90.424539                   1\n",
      "88    1.0  78.635424  96.647427                   1\n",
      "89    1.0  52.348004  60.769505                   0\n",
      "90    1.0  94.094331  77.159105                   1\n",
      "91    1.0  90.448551  87.508792                   1\n",
      "92    1.0  55.482161  35.570703                   0\n",
      "93    1.0  74.492692  84.845137                   1\n",
      "94    1.0  89.845807  45.358284                   1\n",
      "95    1.0  83.489163  48.380286                   1\n",
      "96    1.0  42.261701  87.103851                   1\n",
      "97    1.0  99.315009  68.775409                   1\n",
      "98    1.0  55.340018  64.931938                   1\n",
      "99    1.0  74.775893  89.529813                   1\n",
      "\n",
      "[100 rows x 4 columns]\n"
     ]
    }
   ],
   "source": [
    "#data file in form of table with extra column inserted in above step\n",
    "print(data)"
   ]
  },
  {
   "cell_type": "code",
   "execution_count": 13,
   "metadata": {},
   "outputs": [
    {
     "name": "stdout",
     "output_type": "stream",
     "text": [
      "4\n",
      "100\n"
     ]
    }
   ],
   "source": [
    "[m,nx]=data.shape\n",
    "print(nx)\n",
    "print(m)"
   ]
  },
  {
   "cell_type": "code",
   "execution_count": 14,
   "metadata": {},
   "outputs": [],
   "source": [
    "#extracting training set input and output \n",
    "x=data.iloc[:,0:nx-1]\n",
    "y=data.iloc[:,nx-1]"
   ]
  },
  {
   "cell_type": "code",
   "execution_count": 15,
   "metadata": {},
   "outputs": [
    {
     "name": "stdout",
     "output_type": "stream",
     "text": [
      "    Extra    Score_1    Score_2\n",
      "0     1.0  34.623660  78.024693\n",
      "1     1.0  30.286711  43.894998\n",
      "2     1.0  35.847409  72.902198\n",
      "3     1.0  60.182599  86.308552\n",
      "4     1.0  79.032736  75.344376\n",
      "5     1.0  45.083277  56.316372\n",
      "6     1.0  61.106665  96.511426\n",
      "7     1.0  75.024746  46.554014\n",
      "8     1.0  76.098787  87.420570\n",
      "9     1.0  84.432820  43.533393\n",
      "10    1.0  95.861555  38.225278\n",
      "11    1.0  75.013658  30.603263\n",
      "12    1.0  82.307053  76.481963\n",
      "13    1.0  69.364589  97.718692\n",
      "14    1.0  39.538339  76.036811\n",
      "15    1.0  53.971052  89.207350\n",
      "16    1.0  69.070144  52.740470\n",
      "17    1.0  67.946855  46.678574\n",
      "18    1.0  70.661510  92.927138\n",
      "19    1.0  76.978784  47.575964\n",
      "20    1.0  67.372028  42.838438\n",
      "21    1.0  89.676776  65.799366\n",
      "22    1.0  50.534788  48.855812\n",
      "23    1.0  34.212061  44.209529\n",
      "24    1.0  77.924091  68.972360\n",
      "25    1.0  62.271014  69.954458\n",
      "26    1.0  80.190181  44.821629\n",
      "27    1.0  93.114389  38.800670\n",
      "28    1.0  61.830206  50.256108\n",
      "29    1.0  38.785804  64.995681\n",
      "..    ...        ...        ...\n",
      "70    1.0  32.722833  43.307173\n",
      "71    1.0  64.039320  78.031688\n",
      "72    1.0  72.346494  96.227593\n",
      "73    1.0  60.457886  73.094998\n",
      "74    1.0  58.840956  75.858448\n",
      "75    1.0  99.827858  72.369252\n",
      "76    1.0  47.264269  88.475865\n",
      "77    1.0  50.458160  75.809860\n",
      "78    1.0  60.455556  42.508409\n",
      "79    1.0  82.226662  42.719879\n",
      "80    1.0  88.913896  69.803789\n",
      "81    1.0  94.834507  45.694307\n",
      "82    1.0  67.319257  66.589353\n",
      "83    1.0  57.238706  59.514282\n",
      "84    1.0  80.366756  90.960148\n",
      "85    1.0  68.468522  85.594307\n",
      "86    1.0  42.075455  78.844786\n",
      "87    1.0  75.477702  90.424539\n",
      "88    1.0  78.635424  96.647427\n",
      "89    1.0  52.348004  60.769505\n",
      "90    1.0  94.094331  77.159105\n",
      "91    1.0  90.448551  87.508792\n",
      "92    1.0  55.482161  35.570703\n",
      "93    1.0  74.492692  84.845137\n",
      "94    1.0  89.845807  45.358284\n",
      "95    1.0  83.489163  48.380286\n",
      "96    1.0  42.261701  87.103851\n",
      "97    1.0  99.315009  68.775409\n",
      "98    1.0  55.340018  64.931938\n",
      "99    1.0  74.775893  89.529813\n",
      "\n",
      "[100 rows x 3 columns]\n"
     ]
    }
   ],
   "source": [
    "#training set input\n",
    "print(x)"
   ]
  },
  {
   "cell_type": "code",
   "execution_count": 16,
   "metadata": {},
   "outputs": [
    {
     "name": "stdout",
     "output_type": "stream",
     "text": [
      "0     0\n",
      "1     0\n",
      "2     0\n",
      "3     1\n",
      "4     1\n",
      "5     0\n",
      "6     1\n",
      "7     1\n",
      "8     1\n",
      "9     1\n",
      "10    0\n",
      "11    0\n",
      "12    1\n",
      "13    1\n",
      "14    0\n",
      "15    1\n",
      "16    1\n",
      "17    0\n",
      "18    1\n",
      "19    1\n",
      "20    0\n",
      "21    1\n",
      "22    0\n",
      "23    0\n",
      "24    1\n",
      "25    1\n",
      "26    1\n",
      "27    0\n",
      "28    0\n",
      "29    0\n",
      "     ..\n",
      "70    0\n",
      "71    1\n",
      "72    1\n",
      "73    1\n",
      "74    1\n",
      "75    1\n",
      "76    1\n",
      "77    1\n",
      "78    0\n",
      "79    0\n",
      "80    1\n",
      "81    1\n",
      "82    1\n",
      "83    1\n",
      "84    1\n",
      "85    1\n",
      "86    0\n",
      "87    1\n",
      "88    1\n",
      "89    0\n",
      "90    1\n",
      "91    1\n",
      "92    0\n",
      "93    1\n",
      "94    1\n",
      "95    1\n",
      "96    1\n",
      "97    1\n",
      "98    1\n",
      "99    1\n",
      "Name: Admission_Decision, Length: 100, dtype: int64\n"
     ]
    }
   ],
   "source": [
    "#training set output\n",
    "print(y)"
   ]
  },
  {
   "cell_type": "code",
   "execution_count": 17,
   "metadata": {},
   "outputs": [
    {
     "name": "stdout",
     "output_type": "stream",
     "text": [
      "<class 'pandas.core.frame.DataFrame'>\n",
      "<class 'pandas.core.series.Series'>\n"
     ]
    }
   ],
   "source": [
    "print(type(x))\n",
    "print(type(y))\n"
   ]
  },
  {
   "cell_type": "code",
   "execution_count": 18,
   "metadata": {},
   "outputs": [],
   "source": [
    "#converting DataFrame to numpy array\n",
    "X=x.values\n",
    "Y=y.values"
   ]
  },
  {
   "cell_type": "code",
   "execution_count": 19,
   "metadata": {},
   "outputs": [
    {
     "name": "stdout",
     "output_type": "stream",
     "text": [
      "<class 'numpy.ndarray'>\n",
      "<class 'numpy.ndarray'>\n"
     ]
    }
   ],
   "source": [
    "print(type(X))\n",
    "print(type(Y))"
   ]
  },
  {
   "cell_type": "code",
   "execution_count": 20,
   "metadata": {},
   "outputs": [
    {
     "name": "stdout",
     "output_type": "stream",
     "text": [
      "3\n",
      "100\n"
     ]
    }
   ],
   "source": [
    "#dimensions of input training examples viz. 'm' stands for number of training examples and 'n' stands for number of\n",
    "# of features(including extra added biaed feature which has value 1 throughout)\n",
    "[m,n]=X.shape\n",
    "print(n)\n",
    "print(m)"
   ]
  },
  {
   "cell_type": "code",
   "execution_count": 21,
   "metadata": {},
   "outputs": [
    {
     "name": "stdout",
     "output_type": "stream",
     "text": [
      "[0. 0. 0.]\n"
     ]
    }
   ],
   "source": [
    "#initializing learning parameters to zero\n",
    "theta=np.zeros(n)\n",
    "print(theta)"
   ]
  },
  {
   "cell_type": "code",
   "execution_count": 22,
   "metadata": {},
   "outputs": [
    {
     "name": "stdout",
     "output_type": "stream",
     "text": [
      "(100, 3)\n",
      "(100,)\n",
      "(3,)\n"
     ]
    }
   ],
   "source": [
    "print(X.shape)\n",
    "print(Y.shape)\n",
    "print(theta.shape)"
   ]
  },
  {
   "cell_type": "code",
   "execution_count": 23,
   "metadata": {},
   "outputs": [
    {
     "name": "stdout",
     "output_type": "stream",
     "text": [
      "[0.6931471805599453]\n"
     ]
    }
   ],
   "source": [
    "#initial error value at theta=[0,0,0]\n",
    "J_val=[compute_cost(theta,X,Y,m)]\n",
    "print(J_val)"
   ]
  },
  {
   "cell_type": "code",
   "execution_count": 24,
   "metadata": {},
   "outputs": [
    {
     "name": "stdout",
     "output_type": "stream",
     "text": [
      "0.21833019382659796\n"
     ]
    }
   ],
   "source": [
    "#initial error value at theta=[-24, 0.2, 0.2]\n",
    "test_theta = np.array([-24, 0.2, 0.2])\n",
    "J_val_test=compute_cost(test_theta,X,Y,m)\n",
    "print(J_val_test)"
   ]
  },
  {
   "cell_type": "code",
   "execution_count": 25,
   "metadata": {},
   "outputs": [
    {
     "name": "stdout",
     "output_type": "stream",
     "text": [
      "[0. 0. 0.]\n"
     ]
    }
   ],
   "source": [
    "#reinitializing learning parameters to zero\n",
    "theta=np.zeros(n)\n",
    "print(theta)"
   ]
  },
  {
   "cell_type": "code",
   "execution_count": 26,
   "metadata": {},
   "outputs": [],
   "source": [
    "#giving gradient descent number of iterations to perform ,say 400000\n",
    "#setting value of alpha i.e. learning rate to 0.001\n",
    "iterations=400000\n",
    "alpha=0.001\n",
    "ite=[i for i in range(0,iterations+1)]"
   ]
  },
  {
   "cell_type": "code",
   "execution_count": 27,
   "metadata": {},
   "outputs": [],
   "source": [
    "for i in range(0,iterations):\n",
    "    theta=theta-(alpha/m)*(np.transpose(X).dot(gz(theta,X)-Y))\n",
    "    #J_val.append(compute_cost(theta,X,Y,m))"
   ]
  },
  {
   "cell_type": "code",
   "execution_count": 28,
   "metadata": {},
   "outputs": [
    {
     "name": "stdout",
     "output_type": "stream",
     "text": [
      "[-10.63276758   0.09045576   0.08425697]\n"
     ]
    }
   ],
   "source": [
    "#final theta when alpha =0.01 and total number of iterations=400000\n",
    "print(theta)"
   ]
  },
  {
   "cell_type": "code",
   "execution_count": 29,
   "metadata": {},
   "outputs": [
    {
     "data": {
      "text/plain": [
       "<matplotlib.legend.Legend at 0x24e400d2ac8>"
      ]
     },
     "execution_count": 29,
     "metadata": {},
     "output_type": "execute_result"
    },
    {
     "data": {
      "image/png": "[encoded data removed]",
      "text/plain": [
       "<matplotlib.figure.Figure at 0x24e3f1a80b8>"
      ]
     },
     "metadata": {},
     "output_type": "display_data"
    }
   ],
   "source": [
    "#plotting decision boundary with training data\n",
    "plt.scatter(X[Y==0,1],X[Y==0,2],c='y',marker=\"o\")\n",
    "\n",
    "plt.scatter(X[Y==1,1],X[Y==1,2],c='black',marker=\"+\")\n",
    "\n",
    "x1=np.arange(20,100,1)\n",
    "x2=(theta[0]+(theta[1]*x1))/((-1)*theta[2])\n",
    "plt.xlabel(\"Score_1\")\n",
    "plt.ylabel(\"Score_2\")\n",
    "plt.plot(x1,x2,c='b')\n",
    "plt.legend([\"Admitted\",\"Not Admitted\",\"Decision Boundary\"])"
   ]
  },
  {
   "cell_type": "code",
   "execution_count": null,
   "metadata": {},
   "outputs": [],
   "source": []
  }
 ],
 "metadata": {
  "kernelspec": {
   "display_name": "Python 3",
   "language": "python",
   "name": "python3"
  },
  "language_info": {
   "codemirror_mode": {
    "name": "ipython",
    "version": 3
   },
   "file_extension": ".py",
   "mimetype": "text/x-python",
   "name": "python",
   "nbconvert_exporter": "python",
   "pygments_lexer": "ipython3",
   "version": "3.6.4"
  }
 },
 "nbformat": 4,
 "nbformat_minor": 2
}
