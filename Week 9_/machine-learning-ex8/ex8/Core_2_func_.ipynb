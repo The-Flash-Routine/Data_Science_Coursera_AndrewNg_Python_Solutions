{
 "cells": [
  {
   "cell_type": "code",
   "execution_count": 1,
   "metadata": {},
   "outputs": [],
   "source": [
    "#for pandas\n",
    "import pandas as pd"
   ]
  },
  {
   "cell_type": "code",
   "execution_count": 2,
   "metadata": {},
   "outputs": [],
   "source": [
    "#for numpy\n",
    "import numpy as np"
   ]
  },
  {
   "cell_type": "code",
   "execution_count": 3,
   "metadata": {},
   "outputs": [],
   "source": [
    "#for loading .mat files\n",
    "import scipy.io as sci"
   ]
  },
  {
   "cell_type": "code",
   "execution_count": 4,
   "metadata": {},
   "outputs": [],
   "source": [
    "#for using math functions\n",
    "from math import sqrt,exp"
   ]
  },
  {
   "cell_type": "code",
   "execution_count": 5,
   "metadata": {},
   "outputs": [],
   "source": [
    "#for plotting purpose\n",
    "import matplotlib.pyplot as plt"
   ]
  },
  {
   "cell_type": "code",
   "execution_count": 6,
   "metadata": {},
   "outputs": [],
   "source": [
    "#ignore warnings on using plt.hold()\n",
    "import warnings\n",
    "warnings.filterwarnings(\"ignore\")"
   ]
  },
  {
   "cell_type": "code",
   "execution_count": 7,
   "metadata": {},
   "outputs": [],
   "source": [
    "#find gaussian distri parameters like mean and variance\n",
    "def findgaussparam(x):\n",
    "    mu=np.mean(x,axis=0)\n",
    "    vari=np.var(x,axis=0,ddof=1)\n",
    "    return mu,vari"
   ]
  },
  {
   "cell_type": "code",
   "execution_count": 8,
   "metadata": {},
   "outputs": [],
   "source": [
    "#calculate gaussian probability expression value\n",
    "def calcgauss(x,mu,var):\n",
    "    hey=(x-mu)*(x-mu)\n",
    "    hey=hey/((-2)*var)\n",
    "    hey=np.exp(hey)\n",
    "    hey=hey*(1/(sqrt(2*(np.pi)*var)))\n",
    "    return hey"
   ]
  },
  {
   "cell_type": "code",
   "execution_count": 9,
   "metadata": {},
   "outputs": [],
   "source": [
    "#calculate p value for a given input(input may be a matrix)\n",
    "def calcpval(x,mu,var):\n",
    "    [m,n]=x.shape\n",
    "    pval=np.ones(m)\n",
    "    for i in range(0,n):\n",
    "      pval=pval*(calcgauss(x[:,i],mu[i],var[i]))\n",
    "    \n",
    "    return pval"
   ]
  },
  {
   "cell_type": "code",
   "execution_count": 10,
   "metadata": {},
   "outputs": [],
   "source": [
    "#to select best epsilon and corresponding f1 score\n",
    "def selectepi(x,y,mu,var):\n",
    "    p=calcpval(xval,mu,var)\n",
    "    h=(p.max()-p.min())/1000\n",
    "    epsilon=np.arange(p.min(),p.max(),h)\n",
    "    epsiopt=-1\n",
    "    f1opt=-1\n",
    "    for i in range(0,len(epsilon)):\n",
    "        pred=(p<epsilon[i]).reshape((-1,1))\n",
    "        mat=np.hstack((pred,y))\n",
    "        tp=np.sum(np.logical_and(mat[:,0]==1,mat[:,1]==1))\n",
    "        fp=np.sum(np.logical_and(mat[:,0]==1,mat[:,1]==0))\n",
    "        fn=np.sum(np.logical_and(mat[:,0]==0,mat[:,1]==1))\n",
    "        prec=tp/(tp+fp)\n",
    "        recall=tp/(tp+fn)\n",
    "        score=(2*prec*recall)/(prec+recall)\n",
    "        if score>f1opt:\n",
    "            f1opt=score\n",
    "            epsiopt=epsilon[i]\n",
    "    return epsiopt,f1opt"
   ]
  },
  {
   "cell_type": "code",
   "execution_count": 11,
   "metadata": {},
   "outputs": [],
   "source": [
    "#function to find number of anamolies corresponding to a given value of epsilon in an input example(maybe training or val)\n",
    "def no_of_ana(ep,xtrain,mu,var):\n",
    "    p=calcpval(xtrain,mu,var)\n",
    "    pred=np.sum((p<ep))\n",
    "    return pred"
   ]
  },
  {
   "cell_type": "code",
   "execution_count": 12,
   "metadata": {},
   "outputs": [],
   "source": [
    "#location of file ex8data2.mat\n",
    "datafileloc=\"C:/Users/Ritik/Desktop/Projects_Flash/Done using Python_Andrew_Ng_Coursera/Week 9/machine-learning-ex8/ex8/ex8data2.mat\""
   ]
  },
  {
   "cell_type": "code",
   "execution_count": 13,
   "metadata": {},
   "outputs": [],
   "source": [
    "#loading ex8data2.mat\n",
    "data=sci.loadmat(datafileloc)"
   ]
  },
  {
   "cell_type": "code",
   "execution_count": 14,
   "metadata": {},
   "outputs": [
    {
     "data": {
      "text/plain": [
       "dict_keys(['__header__', '__version__', '__globals__', 'X', 'Xval', 'yval'])"
      ]
     },
     "execution_count": 14,
     "metadata": {},
     "output_type": "execute_result"
    }
   ],
   "source": [
    "data.keys()"
   ]
  },
  {
   "cell_type": "code",
   "execution_count": 15,
   "metadata": {},
   "outputs": [],
   "source": [
    "#extraction trainng and validation examples\n",
    "xtrain=np.array(data[\"X\"])\n",
    "xval=np.array(data[\"Xval\"])\n",
    "yval=np.array(data[\"yval\"])"
   ]
  },
  {
   "cell_type": "code",
   "execution_count": 16,
   "metadata": {},
   "outputs": [
    {
     "name": "stdout",
     "output_type": "stream",
     "text": [
      "(1000, 11)\n",
      "(100, 11)\n",
      "(100, 1)\n"
     ]
    }
   ],
   "source": [
    "#learning about shape of training and validation examples\n",
    "print(xtrain.shape)\n",
    "print(xval.shape)\n",
    "print(yval.shape)"
   ]
  },
  {
   "cell_type": "code",
   "execution_count": 17,
   "metadata": {},
   "outputs": [],
   "source": [
    "#calculating mu and variance\n",
    "mu,var=findgaussparam(xtrain)"
   ]
  },
  {
   "cell_type": "code",
   "execution_count": 18,
   "metadata": {},
   "outputs": [
    {
     "name": "stdout",
     "output_type": "stream",
     "text": [
      "1.37166067504073e-18 0.6153846153846154\n"
     ]
    }
   ],
   "source": [
    "#selecting best threshold or cut-off value by using validation set\n",
    "epsilon,f1score=selectepi(xval,yval,mu,var)\n",
    "print(epsilon,f1score)"
   ]
  },
  {
   "cell_type": "code",
   "execution_count": 19,
   "metadata": {},
   "outputs": [
    {
     "name": "stdout",
     "output_type": "stream",
     "text": [
      "117\n"
     ]
    }
   ],
   "source": [
    "#printing no of anamoliesin training set when epsilon is picked with help of validation set \n",
    "print(no_of_ana(epsilon,xtrain,mu,var))"
   ]
  },
  {
   "cell_type": "code",
   "execution_count": null,
   "metadata": {},
   "outputs": [],
   "source": []
  }
 ],
 "metadata": {
  "kernelspec": {
   "display_name": "Python 3",
   "language": "python",
   "name": "python3"
  },
  "language_info": {
   "codemirror_mode": {
    "name": "ipython",
    "version": 3
   },
   "file_extension": ".py",
   "mimetype": "text/x-python",
   "name": "python",
   "nbconvert_exporter": "python",
   "pygments_lexer": "ipython3",
   "version": "3.6.4"
  }
 },
 "nbformat": 4,
 "nbformat_minor": 2
}
