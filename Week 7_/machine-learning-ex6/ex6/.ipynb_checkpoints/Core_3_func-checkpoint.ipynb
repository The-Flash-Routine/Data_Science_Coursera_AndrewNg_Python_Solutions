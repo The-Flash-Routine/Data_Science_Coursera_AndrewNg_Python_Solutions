{
 "cells": [
  {
   "cell_type": "code",
   "execution_count": 1,
   "metadata": {},
   "outputs": [],
   "source": [
    "#for pandas\n",
    "import pandas as pd"
   ]
  },
  {
   "cell_type": "code",
   "execution_count": 2,
   "metadata": {},
   "outputs": [],
   "source": [
    "#for numpy\n",
    "import numpy as np"
   ]
  },
  {
   "cell_type": "code",
   "execution_count": 3,
   "metadata": {},
   "outputs": [],
   "source": [
    "#for matplotlib\n",
    "import matplotlib.pyplot as plt"
   ]
  },
  {
   "cell_type": "code",
   "execution_count": 4,
   "metadata": {},
   "outputs": [],
   "source": [
    "#for importing svm module from scikit learn\n",
    "from sklearn import svm"
   ]
  },
  {
   "cell_type": "code",
   "execution_count": 5,
   "metadata": {},
   "outputs": [],
   "source": [
    "#for loading .mat extension files to program\n",
    "import scipy.io as sci"
   ]
  },
  {
   "cell_type": "code",
   "execution_count": 6,
   "metadata": {},
   "outputs": [],
   "source": [
    "#for scatter plotting x1 and x2\n",
    "def plotdata(x,y):\n",
    "    on=(y==1).ravel()\n",
    "    off=(y==0).ravel()\n",
    "    plt.scatter(x[on,0],x[on,1],c='black',marker='+')\n",
    "    plt.scatter(x[off,0],x[off,1],c='y',marker='o')\n",
    "    plt.legend([\"y=1\",\"y=0\"])"
   ]
  },
  {
   "cell_type": "code",
   "execution_count": 7,
   "metadata": {},
   "outputs": [],
   "source": [
    "#for plotting decision boundary as trained by the svm\n",
    "def plotdecboundary(x,y,clf):\n",
    "    padding=0.02\n",
    "    jump=0.02\n",
    "    xmin=x[:,0].min()-padding\n",
    "    xmax=x[:,0].max()+padding\n",
    "    ymin=x[:,1].min()-padding\n",
    "    ymax=x[:,1].max()+padding\n",
    "    xx,yy=np.meshgrid(np.arange(xmin,xmax,jump),np.arange(ymin,ymax,jump))\n",
    "    z=clf.predict(np.c_[xx.ravel(),yy.ravel()])\n",
    "    z=z.reshape(xx.shape)\n",
    "    plt.contour(xx,yy,z,colors='b',alpha=1.0,linewidths=0.8,linestyles='-')"
   ]
  },
  {
   "cell_type": "code",
   "execution_count": 8,
   "metadata": {},
   "outputs": [],
   "source": [
    "#function to obtain best C and gamma value\n",
    "def C_vs_gamma_for_valerror(xval,yval,c_set,gamma_set,x,y):\n",
    "    error=10000 #arbitarary large value\n",
    "    c_opt=0\n",
    "    gamma_opt=0\n",
    "    error_set=[]\n",
    "    for i in c_set:\n",
    "        for j in gamma_set:\n",
    "            hey=0\n",
    "            clf=svm.SVC(kernel='rbf',C=i,gamma=j)\n",
    "            clf.fit(x,y.ravel())\n",
    "            hey=predictspyder(clf,xval,yval)\n",
    "            error_set.append(hey)\n",
    "            if hey<error:\n",
    "                error=hey\n",
    "                c_opt=i\n",
    "                gamma_opt=j\n",
    "    \n",
    "    return c_opt,gamma_opt,error_set"
   ]
  },
  {
   "cell_type": "code",
   "execution_count": 9,
   "metadata": {},
   "outputs": [],
   "source": [
    "#error calculating function\n",
    "def predictspyder(clf,xval,yval):\n",
    "    [m,n]=xval.shape\n",
    "    right=0\n",
    "    for i in np.arange(0,m,1):\n",
    "        \n",
    "        if clf.predict([xval[i,:]])==yval[i]:\n",
    "            right=right+1\n",
    "            \n",
    "    error=(m-right)/m\n",
    "    return error"
   ]
  },
  {
   "cell_type": "code",
   "execution_count": 10,
   "metadata": {},
   "outputs": [],
   "source": [
    "#location of data set file\n",
    "datafileloc=\"C:/Users/RitKat/Desktop/Projects_Flash/Done using Python_Andrew_Ng_Coursera/Week 7/machine-learning-ex6/ex6/ex6data3.mat\""
   ]
  },
  {
   "cell_type": "code",
   "execution_count": 11,
   "metadata": {},
   "outputs": [],
   "source": [
    "#loading data set from ex6data2.mat file\n",
    "data=sci.loadmat(datafileloc)"
   ]
  },
  {
   "cell_type": "code",
   "execution_count": 12,
   "metadata": {},
   "outputs": [
    {
     "name": "stdout",
     "output_type": "stream",
     "text": [
      "<class 'dict'>\n"
     ]
    }
   ],
   "source": [
    "print(type(data))"
   ]
  },
  {
   "cell_type": "code",
   "execution_count": 13,
   "metadata": {},
   "outputs": [
    {
     "name": "stdout",
     "output_type": "stream",
     "text": [
      "__header__\n",
      "__version__\n",
      "__globals__\n",
      "X\n",
      "y\n",
      "yval\n",
      "Xval\n"
     ]
    }
   ],
   "source": [
    "#knowing keys present in data\n",
    "for i in data:\n",
    "    print(i)"
   ]
  },
  {
   "cell_type": "code",
   "execution_count": 14,
   "metadata": {},
   "outputs": [],
   "source": [
    "#extracting value of x(train),y(train),x(validation),y(validation)\n",
    "x=np.array(data[\"X\"])\n",
    "y=np.array(data[\"y\"])\n",
    "xval=np.array(data[\"Xval\"])\n",
    "yval=np.array(data[\"yval\"])"
   ]
  },
  {
   "cell_type": "code",
   "execution_count": 15,
   "metadata": {},
   "outputs": [
    {
     "data": {
      "image/png": "[encoded data removed]",
      "text/plain": [
       "<matplotlib.figure.Figure at 0x21ddeec7e80>"
      ]
     },
     "metadata": {},
     "output_type": "display_data"
    }
   ],
   "source": [
    "#visualizing data\n",
    "plotdata(x,y)"
   ]
  },
  {
   "cell_type": "code",
   "execution_count": 16,
   "metadata": {},
   "outputs": [],
   "source": [
    "#making set of C and gamma values to try for selection of best\n",
    "C_set=[]\n",
    "gamma_set=[]\n",
    "pp=0.01\n",
    "while pp<=30:\n",
    "    C_set.append(pp)\n",
    "    gamma_set.append(pp)\n",
    "    pp=pp*3\n",
    "\n",
    "C_set=np.array(C_set)\n",
    "gamma_set=np.array(gamma_set)"
   ]
  },
  {
   "cell_type": "code",
   "execution_count": 17,
   "metadata": {},
   "outputs": [],
   "source": [
    "#obtaining optimum C and gamma values from above listed set \n",
    "c_opt,gamma_opt,error_set=C_vs_gamma_for_valerror(xval,yval,C_set,gamma_set,x,y)"
   ]
  },
  {
   "cell_type": "code",
   "execution_count": 18,
   "metadata": {},
   "outputs": [
    {
     "name": "stdout",
     "output_type": "stream",
     "text": [
      "7.290000000000001\n",
      "21.870000000000005\n"
     ]
    }
   ],
   "source": [
    "print(c_opt)\n",
    "print(gamma_opt)"
   ]
  },
  {
   "cell_type": "code",
   "execution_count": 19,
   "metadata": {},
   "outputs": [
    {
     "data": {
      "image/png": "[encoded data removed]",
      "text/plain": [
       "<matplotlib.figure.Figure at 0x21ddeff18d0>"
      ]
     },
     "metadata": {},
     "output_type": "display_data"
    }
   ],
   "source": [
    "#plotting data with decision boundary as trained by the rbf kernel svm working on optimum C and gamma parameters \n",
    "#as obtained in previous step\n",
    "plotdata(x,y)\n",
    "clf=svm.SVC(C=c_opt,gamma=gamma_opt,kernel='rbf')\n",
    "clf.fit(x,y.ravel())\n",
    "plotdecboundary(x,y,clf)"
   ]
  },
  {
   "cell_type": "code",
   "execution_count": null,
   "metadata": {},
   "outputs": [],
   "source": []
  }
 ],
 "metadata": {
  "kernelspec": {
   "display_name": "Python 3",
   "language": "python",
   "name": "python3"
  },
  "language_info": {
   "codemirror_mode": {
    "name": "ipython",
    "version": 3
   },
   "file_extension": ".py",
   "mimetype": "text/x-python",
   "name": "python",
   "nbconvert_exporter": "python",
   "pygments_lexer": "ipython3",
   "version": "3.6.4"
  }
 },
 "nbformat": 4,
 "nbformat_minor": 2
}
